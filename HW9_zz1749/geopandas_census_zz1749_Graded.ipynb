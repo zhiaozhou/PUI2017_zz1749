{
 "cells": [
  {
   "cell_type": "code",
   "execution_count": 1,
   "metadata": {},
   "outputs": [
    {
     "name": "stdout",
     "output_type": "stream",
     "text": [
      "Populating the interactive namespace from numpy and matplotlib\n"
     ]
    }
   ],
   "source": [
    "import pandas as pd\n",
    "import numpy as np\n",
    "import geopandas as gpd\n",
    "import matplotlib.pyplot as plt\n",
    "%pylab inline\n",
    "import zipfile\n",
    "import urllib\n",
    "import requests\n",
    "import json\n",
    "import io\n",
    "import os\n",
    "import shapely\n",
    "import datetime\n",
    "from fiona.crs import from_epsg\n",
    "import pysal as ps"
   ]
  },
  {
   "cell_type": "markdown",
   "metadata": {},
   "source": [
    "## This notebook is designed to pratice with both geopandas and census data.  This is a simple spatial exploratory analysis of census data. The goal is to assess wheather the location of the [linkNYC](https://www.link.nyc/) access points is optimal to guarantee a more \"democratic\" access to the internet.\n",
    "\n",
    "## THE CENSUS: \n",
    "make sure you do the assigned reading about the census. Census data are a national trasure! The census is a survey  designed to collect data on every person that lives in the USA every 10 years. The Census Bureau collects data, designes aggregation areas (the census blocks and tracts for example, which are designed for maximal homogeneity across all features). However, the Census Bureau does not only collect and aggregate data every 10 years, it also collects the America Community Survey every 5 years, and some more restricted survey on an annual bases. The 1 year survey data is what we will use: https://www.census.gov/services/index.html\n"
   ]
  },
  {
   "cell_type": "markdown",
   "metadata": {},
   "source": [
    "# 1. PUMA : Public Use Microdata Area\n",
    "Census geographies that are not specific political entities (i.e. states, counties etc) are designed for homogeneity so that aggregating the data over the whole area will leat to an estimat (mean or median for example) with minimal variance. Among these geographies are the _census tracts_, _census blocks_, and _Public Use Microdata Areas (PUMAs)_. PUMAs are geographical areas designed to aggregate census data. Each PUMA contains at least 100,000 people. PUMAs do not overlap, and are contained within a single state. \n",
    "\n",
    "## 1.1 download the NYC  Public Use Microdata Areas (PUMA) geometry fron the NYC Open Data API and read it in with geopandas\n",
    "\n",
    "https://data.cityofnewyork.us/Housing-Development/Public-Use-Microdata-Areas-PUMA-/cwiz-gcty/data\n",
    "\n",
    "download it as a shape file. When you download a shapefile you actually download a zipped folder which contains the shape file and other files that are necessary to read the shape file in. You can do that with the urllib library in python 3 with the function \n",
    "\n",
    "        urllib.request.urlretrieve(url, \"file.gz\")\n",
    "\n",
    "then unpack the data into your PUIdata directory, then read it in with geopandas, reading in the shape file with the function \n",
    "\n",
    "        geopandas.GeoDataFrame.from_file(filename)"
   ]
  },
  {
   "cell_type": "code",
   "execution_count": 2,
   "metadata": {},
   "outputs": [
    {
     "data": {
      "text/plain": [
       "('/home/cusp/vmr286/PUIdata/PUMA.gz',\n",
       " <httplib.HTTPMessage instance at 0x7f089c2615f0>)"
      ]
     },
     "execution_count": 2,
     "metadata": {},
     "output_type": "execute_result"
    }
   ],
   "source": [
    "urllib.urlretrieve('https://data.cityofnewyork.us/api/geospatial/cwiz-gcty?method=export&format=Shapefile',os.getenv('PUIDATA')+'/PUMA.gz')"
   ]
  },
  {
   "cell_type": "code",
   "execution_count": 3,
   "metadata": {},
   "outputs": [],
   "source": [
    "PUMA = zipfile.ZipFile(os.getenv('PUIDATA')+'/PUMA.gz')\n",
    "PUMA.extractall(os.getenv('PUIDATA')+'/')"
   ]
  },
  {
   "cell_type": "code",
   "execution_count": 4,
   "metadata": {},
   "outputs": [],
   "source": [
    "pumashp = gpd.GeoDataFrame.from_file(os.getenv('PUIDATA')+'/'+\n",
    "                                     [file for file in os.listdir(os.getenv('PUIDATA')+'/') if 'geo_export' in file and '.shp' in file][0])"
   ]
  },
  {
   "cell_type": "markdown",
   "metadata": {},
   "source": [
    "PUMAs were first created for the 1990 Census. PUMAs are identified by a specific 4 numbers id. In the shapefile foung at data.cityofnewyork.us the id is named \"puma\" and it is in fact a 4 digits number. You can read it in as an integer (although of course it is a categorical variable inherently!). Often the PUMA id is found in conjunction with the 3 numbers state id, leading to a 7 numbers identification. The id for the State of NY is 036. See this link for more: https://www.census.gov/geo/reference/geoidentifiers.html\n"
   ]
  },
  {
   "cell_type": "code",
   "execution_count": 5,
   "metadata": {},
   "outputs": [
    {
     "data": {
      "text/html": [
       "<div>\n",
       "<table border=\"1\" class=\"dataframe\">\n",
       "  <thead>\n",
       "    <tr style=\"text-align: right;\">\n",
       "      <th></th>\n",
       "      <th>shape_area</th>\n",
       "      <th>shape_leng</th>\n",
       "      <th>puma</th>\n",
       "      <th>gid</th>\n",
       "      <th>Percent</th>\n",
       "      <th>error</th>\n",
       "      <th>population</th>\n",
       "      <th>count_link</th>\n",
       "      <th>linkNYCp10</th>\n",
       "      <th>geometry</th>\n",
       "    </tr>\n",
       "  </thead>\n",
       "  <tbody>\n",
       "    <tr>\n",
       "      <th>0</th>\n",
       "      <td>9.792852e+07</td>\n",
       "      <td>53227.144357</td>\n",
       "      <td>3701</td>\n",
       "      <td>3701</td>\n",
       "      <td>84.3</td>\n",
       "      <td>2.6</td>\n",
       "      <td>1517</td>\n",
       "      <td>1</td>\n",
       "      <td>0.065920</td>\n",
       "      <td>POLYGON ((-73.89641133483133 40.90450452082026...</td>\n",
       "    </tr>\n",
       "    <tr>\n",
       "      <th>1</th>\n",
       "      <td>1.889860e+08</td>\n",
       "      <td>106050.002507</td>\n",
       "      <td>3702</td>\n",
       "      <td>3702</td>\n",
       "      <td>68.3</td>\n",
       "      <td>3.7</td>\n",
       "      <td>1959</td>\n",
       "      <td>1</td>\n",
       "      <td>0.051046</td>\n",
       "      <td>POLYGON ((-73.86477258283533 40.90201244187379...</td>\n",
       "    </tr>\n",
       "    <tr>\n",
       "      <th>2</th>\n",
       "      <td>2.670137e+08</td>\n",
       "      <td>304070.209400</td>\n",
       "      <td>3703</td>\n",
       "      <td>3703</td>\n",
       "      <td>82.8</td>\n",
       "      <td>3.2</td>\n",
       "      <td>1305</td>\n",
       "      <td>1</td>\n",
       "      <td>0.076628</td>\n",
       "      <td>(POLYGON ((-73.78833349834532 40.8346671297593...</td>\n",
       "    </tr>\n",
       "    <tr>\n",
       "      <th>3</th>\n",
       "      <td>1.062129e+08</td>\n",
       "      <td>47970.901277</td>\n",
       "      <td>3704</td>\n",
       "      <td>3704</td>\n",
       "      <td>72.6</td>\n",
       "      <td>3.6</td>\n",
       "      <td>1882</td>\n",
       "      <td>1</td>\n",
       "      <td>0.053135</td>\n",
       "      <td>POLYGON ((-73.84792614069238 40.8713422330779,...</td>\n",
       "    </tr>\n",
       "    <tr>\n",
       "      <th>4</th>\n",
       "      <td>1.224950e+08</td>\n",
       "      <td>68630.512052</td>\n",
       "      <td>3705</td>\n",
       "      <td>3705</td>\n",
       "      <td>69.4</td>\n",
       "      <td>3.2</td>\n",
       "      <td>2011</td>\n",
       "      <td>1</td>\n",
       "      <td>0.049727</td>\n",
       "      <td>POLYGON ((-73.88753429505171 40.82250933946978...</td>\n",
       "    </tr>\n",
       "  </tbody>\n",
       "</table>\n",
       "</div>"
      ],
      "text/plain": [
       "     shape_area     shape_leng  puma   gid  Percent  error  population  \\\n",
       "0  9.792852e+07   53227.144357  3701  3701     84.3    2.6        1517   \n",
       "1  1.889860e+08  106050.002507  3702  3702     68.3    3.7        1959   \n",
       "2  2.670137e+08  304070.209400  3703  3703     82.8    3.2        1305   \n",
       "3  1.062129e+08   47970.901277  3704  3704     72.6    3.6        1882   \n",
       "4  1.224950e+08   68630.512052  3705  3705     69.4    3.2        2011   \n",
       "\n",
       "   count_link  linkNYCp10                                           geometry  \n",
       "0           1    0.065920  POLYGON ((-73.89641133483133 40.90450452082026...  \n",
       "1           1    0.051046  POLYGON ((-73.86477258283533 40.90201244187379...  \n",
       "2           1    0.076628  (POLYGON ((-73.78833349834532 40.8346671297593...  \n",
       "3           1    0.053135  POLYGON ((-73.84792614069238 40.8713422330779,...  \n",
       "4           1    0.049727  POLYGON ((-73.88753429505171 40.82250933946978...  "
      ]
     },
     "execution_count": 5,
     "metadata": {},
     "output_type": "execute_result"
    }
   ],
   "source": [
    "pumashp.head()"
   ]
  },
  {
   "cell_type": "code",
   "execution_count": 6,
   "metadata": {},
   "outputs": [
    {
     "data": {
      "text/plain": [
       "{u'datum': u'NAD83',\n",
       " u'lat_0': 40.16666666666666,\n",
       " u'lat_1': 41.03333333333333,\n",
       " u'lat_2': 40.66666666666666,\n",
       " u'lon_0': -74,\n",
       " u'no_defs': True,\n",
       " u'proj': u'lcc',\n",
       " u'units': u'us-ft',\n",
       " u'x_0': 300000.0000000001,\n",
       " u'y_0': 0}"
      ]
     },
     "execution_count": 6,
     "metadata": {},
     "output_type": "execute_result"
    }
   ],
   "source": [
    "pumashp.crs"
   ]
  },
  {
   "cell_type": "markdown",
   "metadata": {},
   "source": [
    "## 1.2  plot the PUMA NYC regions\n",
    "\n",
    "you can use the geopandas function plot. \n",
    "What is the appropriate plot to just show the shape of the PUMA regions? A choropleth could be ok, but it is better to just draw the contours of the region, since we do not want to highlight some regions over others by color choices. \n",
    "\n",
    "(Note: a while ago I wrote a quick function that plots choropleths and maps of NYC specifically putting legends and colorbars in the empty spaces taking advantage of the shape of the city and you are welcome to use it: https://github.com/fedhere/choroplethNYC. BUT YOU DO NOT HAVE TO)\n",
    "\n",
    "Your map should look someting like:"
   ]
  },
  {
   "cell_type": "code",
   "execution_count": 7,
   "metadata": {},
   "outputs": [
    {
     "data": {
      "text/plain": [
       "<matplotlib.axes._subplots.AxesSubplot at 0x7f0896eb2ad0>"
      ]
     },
     "execution_count": 7,
     "metadata": {},
     "output_type": "execute_result"
    },
    {
     "data": {
      "image/png": "[encoded data removed]",
      "text/plain": [
       "<matplotlib.figure.Figure at 0x7f0896eb29d0>"
      ]
     },
     "metadata": {},
     "output_type": "display_data"
    }
   ],
   "source": [
    "fig = plt.figure(figsize=(10,10))\n",
    "ax = fig.add_subplot(111)\n",
    "ax.axis('off')\n",
    "pumashp.plot(edgecolor='black',color='white',linewidth=2.0,ax=ax)"
   ]
  },
  {
   "cell_type": "markdown",
   "metadata": {},
   "source": [
    "## Figure 1. The shape of PUMA NYC regions"
   ]
  },
  {
   "cell_type": "markdown",
   "metadata": {},
   "source": [
    "# 2. American Fact Finder data on percentage of houses with broadband internet access\n",
    "\n",
    "Download the table of data from 2016 for NYC: you want to obtain data on broadband access (percentage of households with broadband access) at the PUMA (Public Use Microdata Area) geographical area level. \n",
    "\n",
    "This may be tricky. But familiarizing with Census and American Commjunity Survey data is super important for urban science. Here you should use the API, but you should also practice interacting with the website: \n",
    "\n",
    "You  should read the datta in thgouth the API but also download the data manually and compare the two datasets."
   ]
  },
  {
   "cell_type": "markdown",
   "metadata": {},
   "source": [
    "## 2.1 Get data with American Fact Finder (AFF) API: \n",
    "you can request an API key, although I think it is not necessary for this search (but it is good to practice). Obtain a key and save it into a python file. DO NOT UPLOAD THE FILE CONTAINING THE API KEY TO GITHUB. Keep your API keys private. "
   ]
  },
  {
   "cell_type": "code",
   "execution_count": 9,
   "metadata": {},
   "outputs": [],
   "source": [
    "#reading in my api key saved in censusAPI.py as\n",
    "#myAPI = 'XXXXXXXXXXXXXXX'\n",
    "#from censusAPI import myAPI\n",
    "\n",
    "cens_key = open(os.getenv('PUIDATA')+'/census_key.txt', 'r+')\n",
    "myAPI = cens_key.readlines()[0]\n"
   ]
  },
  {
   "cell_type": "markdown",
   "metadata": {},
   "source": [
    "If you need help with the API you can ask questions in this [Gitter channel](https://gitter.im/uscensusbureau/general) (I did myself to design this homework!) \n",
    "The internet subscription by household is data surveyd annually. You can find out what are the features that you can query through the API for the annually surveyed data at this url: https://api.census.gov/data/2016/acs/acs1/variables.json\n",
    "\n",
    "read it in as a jason file - you can do it with pandas (but it is slow). You can do it as I do below with the request package"
   ]
  },
  {
   "cell_type": "code",
   "execution_count": 10,
   "metadata": {},
   "outputs": [],
   "source": [
    "#read in in the variables available. the info you need is in the 1year ACS data\n",
    "url = \"https://api.census.gov/data/2016/acs/acs1/variables.json\"\n",
    "resp = requests.request('GET', url)\n",
    "aff1y = json.loads(resp.text)"
   ]
  },
  {
   "cell_type": "code",
   "execution_count": 11,
   "metadata": {},
   "outputs": [],
   "source": [
    "#turning things into arrays to enable broadcasting\n",
    "#Python3\n",
    "#affkeys = np.array(list(aff1y['variables'].keys()))\n",
    "#Python2\n",
    "affkeys = np.array(aff1y['variables'].keys())"
   ]
  },
  {
   "cell_type": "markdown",
   "metadata": {},
   "source": [
    "You need two features: **total number of households**, and **number of households with broadband access**\n",
    "\n",
    "Broadband access is one of the B28002 keys. However there are many of those! Each variable has several observations associated to it: B28002 is all internet access data (broadband, dial up, none, ...), and for each of those you have the estimate (count, mean, median, percentage...), the margin of errors, and annotations. Those are identified by an appendix that begins with \"\\_\". Look carefully at the line of code below and its output. I am creating a list that contains the keys of the dictionary I created from the json file for all B28002 observations  (rows that start with \"B28002\") that include the word \"Broadband\" in the description.\n",
    "\n",
    "The syntax is a lost comprehension:\n",
    "\n",
    "        as = \\[a for a in listOfAs\\] \n",
    "\n",
    "is simply a compact way to write\n",
    "\n",
    "        as = \\[\\]\n",
    "        for a in listOfAs:\n",
    "            as.append(a)\n",
    "            \n",
    "with an if statement tha selects broadband         "
   ]
  },
  {
   "cell_type": "code",
   "execution_count": 12,
   "metadata": {},
   "outputs": [
    {
     "data": {
      "text/plain": [
       "[(u'B28002_008E',\n",
       "  u'Estimate!!Total!!With an Internet subscription!!Broadband such as cable, fiber optic or DSL!!Broadband such as cable, fiber optic or DSL with no other type of Internet subscription'),\n",
       " (u'B28002_004E',\n",
       "  u'Estimate!!Total!!With an Internet subscription!!Broadband of any type'),\n",
       " (u'B28002_007E',\n",
       "  u'Estimate!!Total!!With an Internet subscription!!Broadband such as cable, fiber optic or DSL')]"
      ]
     },
     "execution_count": 12,
     "metadata": {},
     "output_type": "execute_result"
    }
   ],
   "source": [
    "#extracting variables of B28002 that contain \"broadband\"\n",
    "[(k, aff1y['variables'][k]['label'])  for k in affkeys if k.startswith (\"B28002\") and \n",
    " 'Broadband' in aff1y['variables'][k]['label']]"
   ]
  },
  {
   "cell_type": "markdown",
   "metadata": {},
   "source": [
    "\n",
    "chose the appropriate variable and extract the relevant data: below I select the variable containing the number of household per PUMA. The \"all\" variable, which tells you what is the total number of units queried (households here) is generally stored in the \\_001 variable (B28002_001 in this case). \"E\" stands for *estimate*. M stands for *margin of error*, EA *estimate annotations*, MA *margin of error annotations*. You want the estimate for this exercise. "
   ]
  },
  {
   "cell_type": "code",
   "execution_count": 13,
   "metadata": {},
   "outputs": [
    {
     "data": {
      "text/plain": [
       "{u'attributes': u'B28002_001M,B28002_001EA',\n",
       " u'concept': u'PRESENCE AND TYPES OF INTERNET SUBSCRIPTIONS IN HOUSEHOLD',\n",
       " u'group': u'B28002',\n",
       " u'label': u'Estimate!!Total',\n",
       " u'limit': 0,\n",
       " u'predicateType': u'int',\n",
       " u'validValues': []}"
      ]
     },
     "execution_count": 13,
     "metadata": {},
     "output_type": "execute_result"
    }
   ],
   "source": [
    "#keyword for the number of households\n",
    "keyNhouseholds = 'B28002_001E'\n",
    "aff1y['variables'][keyNhouseholds]"
   ]
  },
  {
   "cell_type": "markdown",
   "metadata": {},
   "source": [
    "Similarly, choose the fractions of houses with any \"With an Internet subscription!!Broadband of any type\""
   ]
  },
  {
   "cell_type": "code",
   "execution_count": 14,
   "metadata": {},
   "outputs": [
    {
     "data": {
      "text/plain": [
       "{u'attributes': u'B28002_004M,B28002_004EA',\n",
       " u'concept': u'PRESENCE AND TYPES OF INTERNET SUBSCRIPTIONS IN HOUSEHOLD',\n",
       " u'group': u'B28002',\n",
       " u'label': u'Estimate!!Total!!With an Internet subscription!!Broadband of any type',\n",
       " u'limit': 0,\n",
       " u'predicateType': u'int',\n",
       " u'validValues': []}"
      ]
     },
     "execution_count": 14,
     "metadata": {},
     "output_type": "execute_result"
    }
   ],
   "source": [
    "#keyword for the number of households with broarband access\n",
    "keyNBB = 'B28002_004E'\n",
    "aff1y['variables'][keyNBB]"
   ]
  },
  {
   "cell_type": "markdown",
   "metadata": {},
   "source": [
    "Now that you have the variable names use them to extract the relevant data with the ACS API. \n",
    "\n",
    "The API url is as follows:\n",
    "\n",
    "root: https://api.census.gov/data/2016/acs/acs1\n",
    "\n",
    "action: get=\\[variable Name\\],NAME\n",
    "\n",
    "geometry: for=\\[geometry\\]:\\[desired geometry values\\]in=\\[larger geometry\\]:\\[desired larger geometry values\\]\n",
    "\n",
    "API key: key:\\[api key\\]\n",
    "\n",
    "the URL is constructed as root?action&geometry&key\n",
    "\n",
    "Note that it took me a long time to figure out how to request the right geometry: in the url I write below the geometry is \"public%20use%20microdata%20area\" where %20 is the character for ' ' (space) in a url, and \":\\*\" means all PUMAS\n",
    "\n",
    "state:36 is New York State"
   ]
  },
  {
   "cell_type": "code",
   "execution_count": 15,
   "metadata": {},
   "outputs": [
    {
     "data": {
      "text/html": [
       "<div>\n",
       "<table border=\"1\" class=\"dataframe\">\n",
       "  <thead>\n",
       "    <tr style=\"text-align: right;\">\n",
       "      <th></th>\n",
       "      <th>B28002_004E</th>\n",
       "      <th>NAME</th>\n",
       "      <th>state</th>\n",
       "      <th>public use microdata area</th>\n",
       "      <th>Unnamed: 4</th>\n",
       "    </tr>\n",
       "  </thead>\n",
       "  <tbody>\n",
       "    <tr>\n",
       "      <th>0</th>\n",
       "      <td>32607</td>\n",
       "      <td>St. Lawrence County PUMA, New York</td>\n",
       "      <td>36</td>\n",
       "      <td>100</td>\n",
       "      <td>NaN</td>\n",
       "    </tr>\n",
       "    <tr>\n",
       "      <th>1</th>\n",
       "      <td>50811</td>\n",
       "      <td>Clinton, Franklin, Essex &amp; Hamilton Counties P...</td>\n",
       "      <td>36</td>\n",
       "      <td>200</td>\n",
       "      <td>NaN</td>\n",
       "    </tr>\n",
       "    <tr>\n",
       "      <th>2</th>\n",
       "      <td>41210</td>\n",
       "      <td>Warren &amp; Washington Counties PUMA, New York</td>\n",
       "      <td>36</td>\n",
       "      <td>300</td>\n",
       "      <td>NaN</td>\n",
       "    </tr>\n",
       "    <tr>\n",
       "      <th>3</th>\n",
       "      <td>36075</td>\n",
       "      <td>Herkimer (North &amp; Central) &amp; Oneida (Outer) Co...</td>\n",
       "      <td>36</td>\n",
       "      <td>401</td>\n",
       "      <td>NaN</td>\n",
       "    </tr>\n",
       "    <tr>\n",
       "      <th>4</th>\n",
       "      <td>47786</td>\n",
       "      <td>Oneida County (Central)--Greater Utica &amp; Rome ...</td>\n",
       "      <td>36</td>\n",
       "      <td>402</td>\n",
       "      <td>NaN</td>\n",
       "    </tr>\n",
       "  </tbody>\n",
       "</table>\n",
       "</div>"
      ],
      "text/plain": [
       "   B28002_004E                                               NAME  state  \\\n",
       "0        32607                 St. Lawrence County PUMA, New York     36   \n",
       "1        50811  Clinton, Franklin, Essex & Hamilton Counties P...     36   \n",
       "2        41210        Warren & Washington Counties PUMA, New York     36   \n",
       "3        36075  Herkimer (North & Central) & Oneida (Outer) Co...     36   \n",
       "4        47786  Oneida County (Central)--Greater Utica & Rome ...     36   \n",
       "\n",
       "   public use microdata area  Unnamed: 4  \n",
       "0                        100         NaN  \n",
       "1                        200         NaN  \n",
       "2                        300         NaN  \n",
       "3                        401         NaN  \n",
       "4                        402         NaN  "
      ]
     },
     "execution_count": 15,
     "metadata": {},
     "output_type": "execute_result"
    }
   ],
   "source": [
    "# getting the broadband access number of households\n",
    "url = \"https://api.census.gov/data/2016/acs/acs1?get=\" + keyNBB +\\\n",
    "\",NAME&for=public%20use%20microdata%20area:*&in=state:36&key=\" + myAPI\n",
    "resp = requests.request('GET', url).content\n",
    "pumaBB = pd.read_csv(io.StringIO(resp.decode('utf-8').replace('[','').replace(']','')))\n",
    "\n",
    "pumaBB.head()"
   ]
  },
  {
   "cell_type": "code",
   "execution_count": 16,
   "metadata": {},
   "outputs": [],
   "source": [
    "#getting the first row of the table: the total number of households\n",
    "url = \"https://api.census.gov/data/2016/acs/acs1?get=\" + keyNhouseholds +\\\n",
    "\",NAME&for=public%20use%20microdata%20area:*&in=state:36&key=\" + myAPI\n",
    "resp = requests.request('GET', url).content\n",
    "pumaPP = pd.read_csv(io.StringIO(resp.decode('utf-8').replace('[','').replace(']','')))"
   ]
  },
  {
   "cell_type": "code",
   "execution_count": 17,
   "metadata": {},
   "outputs": [
    {
     "data": {
      "text/html": [
       "<div>\n",
       "<table border=\"1\" class=\"dataframe\">\n",
       "  <thead>\n",
       "    <tr style=\"text-align: right;\">\n",
       "      <th></th>\n",
       "      <th>B28002_001E</th>\n",
       "      <th>NAME</th>\n",
       "      <th>state</th>\n",
       "      <th>public use microdata area</th>\n",
       "      <th>Unnamed: 4</th>\n",
       "    </tr>\n",
       "  </thead>\n",
       "  <tbody>\n",
       "    <tr>\n",
       "      <th>0</th>\n",
       "      <td>40479</td>\n",
       "      <td>St. Lawrence County PUMA, New York</td>\n",
       "      <td>36</td>\n",
       "      <td>100</td>\n",
       "      <td>NaN</td>\n",
       "    </tr>\n",
       "    <tr>\n",
       "      <th>1</th>\n",
       "      <td>67092</td>\n",
       "      <td>Clinton, Franklin, Essex &amp; Hamilton Counties P...</td>\n",
       "      <td>36</td>\n",
       "      <td>200</td>\n",
       "      <td>NaN</td>\n",
       "    </tr>\n",
       "    <tr>\n",
       "      <th>2</th>\n",
       "      <td>51614</td>\n",
       "      <td>Warren &amp; Washington Counties PUMA, New York</td>\n",
       "      <td>36</td>\n",
       "      <td>300</td>\n",
       "      <td>NaN</td>\n",
       "    </tr>\n",
       "    <tr>\n",
       "      <th>3</th>\n",
       "      <td>44300</td>\n",
       "      <td>Herkimer (North &amp; Central) &amp; Oneida (Outer) Co...</td>\n",
       "      <td>36</td>\n",
       "      <td>401</td>\n",
       "      <td>NaN</td>\n",
       "    </tr>\n",
       "    <tr>\n",
       "      <th>4</th>\n",
       "      <td>61146</td>\n",
       "      <td>Oneida County (Central)--Greater Utica &amp; Rome ...</td>\n",
       "      <td>36</td>\n",
       "      <td>402</td>\n",
       "      <td>NaN</td>\n",
       "    </tr>\n",
       "  </tbody>\n",
       "</table>\n",
       "</div>"
      ],
      "text/plain": [
       "   B28002_001E                                               NAME  state  \\\n",
       "0        40479                 St. Lawrence County PUMA, New York     36   \n",
       "1        67092  Clinton, Franklin, Essex & Hamilton Counties P...     36   \n",
       "2        51614        Warren & Washington Counties PUMA, New York     36   \n",
       "3        44300  Herkimer (North & Central) & Oneida (Outer) Co...     36   \n",
       "4        61146  Oneida County (Central)--Greater Utica & Rome ...     36   \n",
       "\n",
       "   public use microdata area  Unnamed: 4  \n",
       "0                        100         NaN  \n",
       "1                        200         NaN  \n",
       "2                        300         NaN  \n",
       "3                        401         NaN  \n",
       "4                        402         NaN  "
      ]
     },
     "execution_count": 17,
     "metadata": {},
     "output_type": "execute_result"
    }
   ],
   "source": [
    "pumaPP.head()"
   ]
  },
  {
   "cell_type": "markdown",
   "metadata": {},
   "source": [
    "## 2.2 generate a feature for the percentage of households with broadband access"
   ]
  },
  {
   "cell_type": "code",
   "execution_count": 18,
   "metadata": {},
   "outputs": [],
   "source": [
    "pumaBB = pd.merge(pumaBB.iloc[:,:-1],pumaPP[['B28002_001E','NAME']],on='NAME')\n",
    "pumaBB['pcBB'] = pumaBB.B28002_004E/pumaBB.B28002_001E * 100"
   ]
  },
  {
   "cell_type": "code",
   "execution_count": 19,
   "metadata": {},
   "outputs": [
    {
     "data": {
      "text/html": [
       "<div>\n",
       "<table border=\"1\" class=\"dataframe\">\n",
       "  <thead>\n",
       "    <tr style=\"text-align: right;\">\n",
       "      <th></th>\n",
       "      <th>B28002_004E</th>\n",
       "      <th>NAME</th>\n",
       "      <th>state</th>\n",
       "      <th>public use microdata area</th>\n",
       "      <th>B28002_001E</th>\n",
       "      <th>pcBB</th>\n",
       "    </tr>\n",
       "  </thead>\n",
       "  <tbody>\n",
       "    <tr>\n",
       "      <th>0</th>\n",
       "      <td>32607</td>\n",
       "      <td>St. Lawrence County PUMA, New York</td>\n",
       "      <td>36</td>\n",
       "      <td>100</td>\n",
       "      <td>40479</td>\n",
       "      <td>80.552879</td>\n",
       "    </tr>\n",
       "    <tr>\n",
       "      <th>1</th>\n",
       "      <td>50811</td>\n",
       "      <td>Clinton, Franklin, Essex &amp; Hamilton Counties P...</td>\n",
       "      <td>36</td>\n",
       "      <td>200</td>\n",
       "      <td>67092</td>\n",
       "      <td>75.733321</td>\n",
       "    </tr>\n",
       "    <tr>\n",
       "      <th>2</th>\n",
       "      <td>41210</td>\n",
       "      <td>Warren &amp; Washington Counties PUMA, New York</td>\n",
       "      <td>36</td>\n",
       "      <td>300</td>\n",
       "      <td>51614</td>\n",
       "      <td>79.842678</td>\n",
       "    </tr>\n",
       "    <tr>\n",
       "      <th>3</th>\n",
       "      <td>36075</td>\n",
       "      <td>Herkimer (North &amp; Central) &amp; Oneida (Outer) Co...</td>\n",
       "      <td>36</td>\n",
       "      <td>401</td>\n",
       "      <td>44300</td>\n",
       "      <td>81.433409</td>\n",
       "    </tr>\n",
       "    <tr>\n",
       "      <th>4</th>\n",
       "      <td>47786</td>\n",
       "      <td>Oneida County (Central)--Greater Utica &amp; Rome ...</td>\n",
       "      <td>36</td>\n",
       "      <td>402</td>\n",
       "      <td>61146</td>\n",
       "      <td>78.150656</td>\n",
       "    </tr>\n",
       "  </tbody>\n",
       "</table>\n",
       "</div>"
      ],
      "text/plain": [
       "   B28002_004E                                               NAME  state  \\\n",
       "0        32607                 St. Lawrence County PUMA, New York     36   \n",
       "1        50811  Clinton, Franklin, Essex & Hamilton Counties P...     36   \n",
       "2        41210        Warren & Washington Counties PUMA, New York     36   \n",
       "3        36075  Herkimer (North & Central) & Oneida (Outer) Co...     36   \n",
       "4        47786  Oneida County (Central)--Greater Utica & Rome ...     36   \n",
       "\n",
       "   public use microdata area  B28002_001E       pcBB  \n",
       "0                        100        40479  80.552879  \n",
       "1                        200        67092  75.733321  \n",
       "2                        300        51614  79.842678  \n",
       "3                        401        44300  81.433409  \n",
       "4                        402        61146  78.150656  "
      ]
     },
     "execution_count": 19,
     "metadata": {},
     "output_type": "execute_result"
    }
   ],
   "source": [
    "pumaBB.head()"
   ]
  },
  {
   "cell_type": "markdown",
   "metadata": {},
   "source": [
    "## 2.3 Now compare it with the AFF published \"percentage of households with broadband access\" which is a feature available through their website but that cannot be downloaded directly from the API. It compiled by AFF the same way we did above"
   ]
  },
  {
   "cell_type": "markdown",
   "metadata": {},
   "source": [
    "Manually you can download the GCT Geographic Comparison Tables. Download the GCT table that contains the percentage of households in each PUMA with broadband internet subscription as follows:\n",
    "\n",
    "https://factfinder.census.gov/ -> Advanced Search -> Show me all \n",
    "\n",
    "    - Topics: Product Type -> Geography Comparison Table \n",
    "    \n",
    "select the PERCENT OF HOUSEHOLDS WITH A BROADBAND INTERNET SUBSCRIPTION  at our geography granularity (PUMA) and click Download below. This will generate the table on the fly and you can click again on Download.\n",
    "\n",
    "Move the file into the PUIdata directory, unzip it and load it with pandas.\n",
    "    \n",
    "Your table shold be labeled as: GCT2801\t"
   ]
  },
  {
   "cell_type": "markdown",
   "metadata": {},
   "source": [
    "One more hurdle: you need to move this data to jupyterhub/compute, and the link is not something you can copy and paste!\n",
    "Two solutions:\n",
    "\n",
    "-easier but less preferible: upload the table you downloaded locally to github AWS, or else where, and download it from compute\n",
    "\n",
    "-otherwise, learn how to do it with sftp from your local terminal: these are the steps\n",
    "\n",
    "1. ON YOUR LOCAL MACHINE where you downloaded the table (which was downloaded as aff_download.zip for me in my ~/Downloads folder) type the following *sftp* command\n",
    "        \n",
    "        fbianco@Federicas-MacBook-Air:~$ sftp fbianco@staging.cusp.nyu.edu\n",
    "    \n",
    "2. Input your password\n",
    "            \n",
    "        Password: \n",
    "        Connected to staging.cusp.nyu.edu.\n",
    "\n",
    "   This should open an sftp promopt (you should see sftp> at the beginning of the line). Go to the PUI directory (for me /home/fbianco/PUIdata)\n",
    "    \n",
    "        sftp> cd /home/fbianco/PUIdata             \n",
    "        \n",
    "3. Use the sftp command _put_ to copy the file from the local to the remote machine to compute, making sure you use the full path (unless the file was downloaded in your local directory in the local machine)\n",
    "    \n",
    "        sftp> put /Users/fbianco/Downloads/aff_download.zip\n",
    "        \n",
    "You should see:\n",
    "\n",
    "            Uploading /Users/fbianco/Downloads/aff_download.zip to ....\n",
    "\n",
    "And the file can be unzipped and read into your code with pandas. I leave the read in line below for your convenience, those are the only variables you need."
   ]
  },
  {
   "cell_type": "code",
   "execution_count": 20,
   "metadata": {},
   "outputs": [
    {
     "data": {
      "text/plain": [
       "('/home/cusp/vmr286/PUIdata/ACS_16_1YR_GCT2801.ST50_with_ann.csv',\n",
       " <httplib.HTTPMessage instance at 0x7f08999184d0>)"
      ]
     },
     "execution_count": 20,
     "metadata": {},
     "output_type": "execute_result"
    }
   ],
   "source": [
    "urllib.urlretrieve('https://github.com/zhiaozhou/PUI2017_zz1749/raw/master/HW9_zz1749/ACS_16_1YR_GCT2801.ST50_with_ann.csv',\n",
    "                   os.getenv('PUIDATA')+'/ACS_16_1YR_GCT2801.ST50_with_ann.csv')"
   ]
  },
  {
   "cell_type": "code",
   "execution_count": 21,
   "metadata": {},
   "outputs": [
    {
     "data": {
      "text/html": [
       "<div>\n",
       "<table border=\"1\" class=\"dataframe\">\n",
       "  <thead>\n",
       "    <tr style=\"text-align: right;\">\n",
       "      <th></th>\n",
       "      <th>GCT_STUB.target-geo-id2</th>\n",
       "      <th>HC01</th>\n",
       "      <th>HC02</th>\n",
       "    </tr>\n",
       "  </thead>\n",
       "  <tbody>\n",
       "    <tr>\n",
       "      <th>0</th>\n",
       "      <td>36</td>\n",
       "      <td>81.7</td>\n",
       "      <td>0.2</td>\n",
       "    </tr>\n",
       "    <tr>\n",
       "      <th>1</th>\n",
       "      <td>3600100</td>\n",
       "      <td>80.6</td>\n",
       "      <td>2.6</td>\n",
       "    </tr>\n",
       "    <tr>\n",
       "      <th>2</th>\n",
       "      <td>3600200</td>\n",
       "      <td>75.7</td>\n",
       "      <td>2.2</td>\n",
       "    </tr>\n",
       "    <tr>\n",
       "      <th>3</th>\n",
       "      <td>3600300</td>\n",
       "      <td>79.8</td>\n",
       "      <td>2.6</td>\n",
       "    </tr>\n",
       "    <tr>\n",
       "      <th>4</th>\n",
       "      <td>3600401</td>\n",
       "      <td>81.4</td>\n",
       "      <td>2.4</td>\n",
       "    </tr>\n",
       "  </tbody>\n",
       "</table>\n",
       "</div>"
      ],
      "text/plain": [
       "  GCT_STUB.target-geo-id2  HC01 HC02\n",
       "0                      36  81.7  0.2\n",
       "1                 3600100  80.6  2.6\n",
       "2                 3600200  75.7  2.2\n",
       "3                 3600300  79.8  2.6\n",
       "4                 3600401  81.4  2.4"
      ]
     },
     "execution_count": 21,
     "metadata": {},
     "output_type": "execute_result"
    }
   ],
   "source": [
    "bbpc = pd.read_csv(os.getenv(\"PUIDATA\") + \"/ACS_16_1YR_GCT2801.ST50_with_ann.csv\",\n",
    "            usecols=[\"GCT_STUB.target-geo-id2\",\"HC01\",\"HC02\"])\n",
    "\n",
    "bbpc = bbpc.iloc[1:,:]\n",
    "bbpc.reset_index(inplace = True)\n",
    "bbpc = bbpc.iloc[:,1:]\n",
    "bbpc.head()"
   ]
  },
  {
   "cell_type": "code",
   "execution_count": 22,
   "metadata": {},
   "outputs": [],
   "source": [
    "for column in bbpc.columns[1:]:\n",
    "    bbpc[column] = bbpc[column].astype('float')\n",
    "bbpc['GCT_STUB.target-geo-id2'] = bbpc['GCT_STUB.target-geo-id2'].str[-4:].astype('int64')\n",
    "bbpc.rename(columns={'GCT_STUB.target-geo-id2':'gid'},inplace=True)"
   ]
  },
  {
   "cell_type": "code",
   "execution_count": 23,
   "metadata": {},
   "outputs": [
    {
     "data": {
      "text/html": [
       "<div>\n",
       "<table border=\"1\" class=\"dataframe\">\n",
       "  <thead>\n",
       "    <tr style=\"text-align: right;\">\n",
       "      <th></th>\n",
       "      <th>gid</th>\n",
       "      <th>HC01</th>\n",
       "      <th>HC02</th>\n",
       "    </tr>\n",
       "  </thead>\n",
       "  <tbody>\n",
       "    <tr>\n",
       "      <th>0</th>\n",
       "      <td>36</td>\n",
       "      <td>81.7</td>\n",
       "      <td>0.2</td>\n",
       "    </tr>\n",
       "    <tr>\n",
       "      <th>1</th>\n",
       "      <td>100</td>\n",
       "      <td>80.6</td>\n",
       "      <td>2.6</td>\n",
       "    </tr>\n",
       "    <tr>\n",
       "      <th>2</th>\n",
       "      <td>200</td>\n",
       "      <td>75.7</td>\n",
       "      <td>2.2</td>\n",
       "    </tr>\n",
       "    <tr>\n",
       "      <th>3</th>\n",
       "      <td>300</td>\n",
       "      <td>79.8</td>\n",
       "      <td>2.6</td>\n",
       "    </tr>\n",
       "    <tr>\n",
       "      <th>4</th>\n",
       "      <td>401</td>\n",
       "      <td>81.4</td>\n",
       "      <td>2.4</td>\n",
       "    </tr>\n",
       "  </tbody>\n",
       "</table>\n",
       "</div>"
      ],
      "text/plain": [
       "   gid  HC01  HC02\n",
       "0   36  81.7   0.2\n",
       "1  100  80.6   2.6\n",
       "2  200  75.7   2.2\n",
       "3  300  79.8   2.6\n",
       "4  401  81.4   2.4"
      ]
     },
     "execution_count": 23,
     "metadata": {},
     "output_type": "execute_result"
    }
   ],
   "source": [
    "bbpc.head()"
   ]
  },
  {
   "cell_type": "markdown",
   "metadata": {},
   "source": [
    "notice 2 things:\n",
    "    - that the Target Geo Id2: GCT_STUB.target-geo-id2 is a 7 digits number. See my comment above about it. \n",
    "    - that there is a weird double header. You can deal with it in one of 2 ways: either reread the file in skipping one row and using the second row as header, or remove that row (for example with bbpc.drop(0, inplace=True)) but also then you should check the *type* of your GCT_STUB.target-geo-id2 feature! The fact that pandas had to read in a column with nombers and characters forced it to read it as a string, and you need to convert it (.astype(int)) to merge it easily with the API acquired data.\n",
    "    \n",
    "In the API dataframe the PUMA id was a 4 digit number. If you have them both as integers and you remove the initial three digits (for example by subtracting 360000 from each value wich you can do as bbpc[\"gid\"] = bbpc.gid - 3600000 then you can merge on the puma id "
   ]
  },
  {
   "cell_type": "markdown",
   "metadata": {},
   "source": [
    "## check that the percentage of households with broadband you generated and the one you red in from the table you downloaded manually are the same"
   ]
  },
  {
   "cell_type": "code",
   "execution_count": 24,
   "metadata": {},
   "outputs": [
    {
     "data": {
      "text/html": [
       "<div>\n",
       "<table border=\"1\" class=\"dataframe\">\n",
       "  <thead>\n",
       "    <tr style=\"text-align: right;\">\n",
       "      <th></th>\n",
       "      <th>pcBB</th>\n",
       "      <th>HC01</th>\n",
       "      <th>diff</th>\n",
       "    </tr>\n",
       "  </thead>\n",
       "  <tbody>\n",
       "    <tr>\n",
       "      <th>count</th>\n",
       "      <td>145.000000</td>\n",
       "      <td>145.000000</td>\n",
       "      <td>145.000000</td>\n",
       "    </tr>\n",
       "    <tr>\n",
       "      <th>mean</th>\n",
       "      <td>81.845478</td>\n",
       "      <td>81.843448</td>\n",
       "      <td>0.026217</td>\n",
       "    </tr>\n",
       "    <tr>\n",
       "      <th>std</th>\n",
       "      <td>7.063369</td>\n",
       "      <td>7.065358</td>\n",
       "      <td>0.014480</td>\n",
       "    </tr>\n",
       "    <tr>\n",
       "      <th>min</th>\n",
       "      <td>54.932945</td>\n",
       "      <td>54.900000</td>\n",
       "      <td>0.000178</td>\n",
       "    </tr>\n",
       "    <tr>\n",
       "      <th>25%</th>\n",
       "      <td>77.770257</td>\n",
       "      <td>77.800000</td>\n",
       "      <td>0.012252</td>\n",
       "    </tr>\n",
       "    <tr>\n",
       "      <th>50%</th>\n",
       "      <td>82.826141</td>\n",
       "      <td>82.800000</td>\n",
       "      <td>0.027230</td>\n",
       "    </tr>\n",
       "    <tr>\n",
       "      <th>75%</th>\n",
       "      <td>87.305077</td>\n",
       "      <td>87.300000</td>\n",
       "      <td>0.039090</td>\n",
       "    </tr>\n",
       "    <tr>\n",
       "      <th>max</th>\n",
       "      <td>93.404143</td>\n",
       "      <td>93.400000</td>\n",
       "      <td>0.049872</td>\n",
       "    </tr>\n",
       "  </tbody>\n",
       "</table>\n",
       "</div>"
      ],
      "text/plain": [
       "             pcBB        HC01        diff\n",
       "count  145.000000  145.000000  145.000000\n",
       "mean    81.845478   81.843448    0.026217\n",
       "std      7.063369    7.065358    0.014480\n",
       "min     54.932945   54.900000    0.000178\n",
       "25%     77.770257   77.800000    0.012252\n",
       "50%     82.826141   82.800000    0.027230\n",
       "75%     87.305077   87.300000    0.039090\n",
       "max     93.404143   93.400000    0.049872"
      ]
     },
     "execution_count": 24,
     "metadata": {},
     "output_type": "execute_result"
    }
   ],
   "source": [
    "diff_ = pumaBB.merge(bbpc, right_on=\"gid\", \n",
    "                     left_on=\"public use microdata area\")[[\"pcBB\", \"HC01\"]]\n",
    "\n",
    "diff_[\"diff\"] = np.abs(diff_[\"pcBB\"] - diff_[\"HC01\"].astype(float))\n",
    "\n",
    "diff_.describe()"
   ]
  },
  {
   "cell_type": "markdown",
   "metadata": {},
   "source": [
    "the maximum difference should only be a few percent"
   ]
  },
  {
   "cell_type": "markdown",
   "metadata": {},
   "source": [
    "# 3 Plot a choropleth of NYC broadband access \n",
    "## 3.1 Merge with the puma geodataframe and plot a choropleth of the percentage of households with broadband access"
   ]
  },
  {
   "cell_type": "code",
   "execution_count": 25,
   "metadata": {},
   "outputs": [],
   "source": [
    "pumaBB['public use microdata area'] = pumaBB['public use microdata area'].astype('str')"
   ]
  },
  {
   "cell_type": "code",
   "execution_count": 26,
   "metadata": {},
   "outputs": [
    {
     "data": {
      "text/html": [
       "<div>\n",
       "<table border=\"1\" class=\"dataframe\">\n",
       "  <thead>\n",
       "    <tr style=\"text-align: right;\">\n",
       "      <th></th>\n",
       "      <th>shape_area</th>\n",
       "      <th>shape_leng</th>\n",
       "      <th>puma</th>\n",
       "      <th>gid</th>\n",
       "      <th>Percent</th>\n",
       "      <th>error</th>\n",
       "      <th>population</th>\n",
       "      <th>count_link</th>\n",
       "      <th>linkNYCp10</th>\n",
       "      <th>geometry</th>\n",
       "      <th>public use microdata area</th>\n",
       "      <th>pcBB</th>\n",
       "    </tr>\n",
       "  </thead>\n",
       "  <tbody>\n",
       "  </tbody>\n",
       "</table>\n",
       "</div>"
      ],
      "text/plain": [
       "Empty GeoDataFrame\n",
       "Columns: [shape_area, shape_leng, puma, gid, Percent, error, population, count_link, linkNYCp10, geometry, public use microdata area, pcBB]\n",
       "Index: []"
      ]
     },
     "execution_count": 26,
     "metadata": {},
     "output_type": "execute_result"
    }
   ],
   "source": [
    "pumashp = pumashp.merge(pumaBB[['public use microdata area','pcBB']],left_on='puma',right_on='public use microdata area')\n",
    "pumashp.head(1)"
   ]
  },
  {
   "cell_type": "code",
   "execution_count": 27,
   "metadata": {},
   "outputs": [
    {
     "name": "stderr",
     "output_type": "stream",
     "text": [
      "/opt/rh/anaconda/root/envs/PUI2016_Python2/lib/python2.7/site-packages/pandas/core/ops.py:716: FutureWarning: elementwise comparison failed; returning scalar instead, but in the future will perform elementwise comparison\n",
      "  result = getattr(x, name)(y)\n"
     ]
    },
    {
     "ename": "TypeError",
     "evalue": "invalid type comparison",
     "output_type": "error",
     "traceback": [
      "\u001b[0;31m\u001b[0m",
      "\u001b[0;31mTypeError\u001b[0mTraceback (most recent call last)",
      "\u001b[0;32m<ipython-input-27-211025eed2fa>\u001b[0m in \u001b[0;36m<module>\u001b[0;34m()\u001b[0m\n\u001b[1;32m      2\u001b[0m \u001b[0max\u001b[0m \u001b[0;34m=\u001b[0m \u001b[0mfig\u001b[0m\u001b[0;34m.\u001b[0m\u001b[0madd_subplot\u001b[0m\u001b[0;34m(\u001b[0m\u001b[0;36m111\u001b[0m\u001b[0;34m)\u001b[0m\u001b[0;34m\u001b[0m\u001b[0m\n\u001b[1;32m      3\u001b[0m \u001b[0max\u001b[0m\u001b[0;34m.\u001b[0m\u001b[0maxis\u001b[0m\u001b[0;34m(\u001b[0m\u001b[0;34m'off'\u001b[0m\u001b[0;34m)\u001b[0m\u001b[0;34m\u001b[0m\u001b[0m\n\u001b[0;32m----> 4\u001b[0;31m \u001b[0mpumashp\u001b[0m\u001b[0;34m.\u001b[0m\u001b[0mplot\u001b[0m\u001b[0;34m(\u001b[0m\u001b[0mcolumn\u001b[0m\u001b[0;34m=\u001b[0m\u001b[0;34m'pcBB'\u001b[0m\u001b[0;34m,\u001b[0m\u001b[0max\u001b[0m\u001b[0;34m=\u001b[0m\u001b[0max\u001b[0m\u001b[0;34m,\u001b[0m\u001b[0mlegend\u001b[0m\u001b[0;34m=\u001b[0m\u001b[0mTrue\u001b[0m\u001b[0;34m)\u001b[0m\u001b[0;34m\u001b[0m\u001b[0m\n\u001b[0m",
      "\u001b[0;32m/opt/rh/anaconda/root/envs/PUI2016_Python2/lib/python2.7/site-packages/geopandas/geodataframe.pyc\u001b[0m in \u001b[0;36mplot\u001b[0;34m(self, *args, **kwargs)\u001b[0m\n\u001b[1;32m    467\u001b[0m     \u001b[0;32mdef\u001b[0m \u001b[0mplot\u001b[0m\u001b[0;34m(\u001b[0m\u001b[0mself\u001b[0m\u001b[0;34m,\u001b[0m \u001b[0;34m*\u001b[0m\u001b[0margs\u001b[0m\u001b[0;34m,\u001b[0m \u001b[0;34m**\u001b[0m\u001b[0mkwargs\u001b[0m\u001b[0;34m)\u001b[0m\u001b[0;34m:\u001b[0m\u001b[0;34m\u001b[0m\u001b[0m\n\u001b[1;32m    468\u001b[0m \u001b[0;34m\u001b[0m\u001b[0m\n\u001b[0;32m--> 469\u001b[0;31m         \u001b[0;32mreturn\u001b[0m \u001b[0mplot_dataframe\u001b[0m\u001b[0;34m(\u001b[0m\u001b[0mself\u001b[0m\u001b[0;34m,\u001b[0m \u001b[0;34m*\u001b[0m\u001b[0margs\u001b[0m\u001b[0;34m,\u001b[0m \u001b[0;34m**\u001b[0m\u001b[0mkwargs\u001b[0m\u001b[0;34m)\u001b[0m\u001b[0;34m\u001b[0m\u001b[0m\n\u001b[0m\u001b[1;32m    470\u001b[0m \u001b[0;34m\u001b[0m\u001b[0m\n\u001b[1;32m    471\u001b[0m     \u001b[0mplot\u001b[0m\u001b[0;34m.\u001b[0m\u001b[0m__doc__\u001b[0m \u001b[0;34m=\u001b[0m \u001b[0mplot_dataframe\u001b[0m\u001b[0;34m.\u001b[0m\u001b[0m__doc__\u001b[0m\u001b[0;34m\u001b[0m\u001b[0m\n",
      "\u001b[0;32m/opt/rh/anaconda/root/envs/PUI2016_Python2/lib/python2.7/site-packages/geopandas/plotting.pyc\u001b[0m in \u001b[0;36mplot_dataframe\u001b[0;34m(df, column, cmap, color, ax, categorical, legend, scheme, k, vmin, vmax, figsize, **style_kwds)\u001b[0m\n\u001b[1;32m    430\u001b[0m \u001b[0;34m\u001b[0m\u001b[0m\n\u001b[1;32m    431\u001b[0m     \u001b[0mgeom_types\u001b[0m \u001b[0;34m=\u001b[0m \u001b[0mdf\u001b[0m\u001b[0;34m.\u001b[0m\u001b[0mgeometry\u001b[0m\u001b[0;34m.\u001b[0m\u001b[0mtype\u001b[0m\u001b[0;34m\u001b[0m\u001b[0m\n\u001b[0;32m--> 432\u001b[0;31m     poly_idx = np.asarray((geom_types == 'Polygon')\n\u001b[0m\u001b[1;32m    433\u001b[0m                           | (geom_types == 'MultiPolygon'))\n\u001b[1;32m    434\u001b[0m     line_idx = np.asarray((geom_types == 'LineString')\n",
      "\u001b[0;32m/opt/rh/anaconda/root/envs/PUI2016_Python2/lib/python2.7/site-packages/pandas/core/ops.pyc\u001b[0m in \u001b[0;36mwrapper\u001b[0;34m(self, other, axis)\u001b[0m\n\u001b[1;32m    761\u001b[0m                 \u001b[0mother\u001b[0m \u001b[0;34m=\u001b[0m \u001b[0mnp\u001b[0m\u001b[0;34m.\u001b[0m\u001b[0masarray\u001b[0m\u001b[0;34m(\u001b[0m\u001b[0mother\u001b[0m\u001b[0;34m)\u001b[0m\u001b[0;34m\u001b[0m\u001b[0m\n\u001b[1;32m    762\u001b[0m \u001b[0;34m\u001b[0m\u001b[0m\n\u001b[0;32m--> 763\u001b[0;31m             \u001b[0mres\u001b[0m \u001b[0;34m=\u001b[0m \u001b[0mna_op\u001b[0m\u001b[0;34m(\u001b[0m\u001b[0mvalues\u001b[0m\u001b[0;34m,\u001b[0m \u001b[0mother\u001b[0m\u001b[0;34m)\u001b[0m\u001b[0;34m\u001b[0m\u001b[0m\n\u001b[0m\u001b[1;32m    764\u001b[0m             \u001b[0;32mif\u001b[0m \u001b[0misscalar\u001b[0m\u001b[0;34m(\u001b[0m\u001b[0mres\u001b[0m\u001b[0;34m)\u001b[0m\u001b[0;34m:\u001b[0m\u001b[0;34m\u001b[0m\u001b[0m\n\u001b[1;32m    765\u001b[0m                 raise TypeError('Could not compare %s type with Series' %\n",
      "\u001b[0;32m/opt/rh/anaconda/root/envs/PUI2016_Python2/lib/python2.7/site-packages/pandas/core/ops.pyc\u001b[0m in \u001b[0;36mna_op\u001b[0;34m(x, y)\u001b[0m\n\u001b[1;32m    716\u001b[0m                 \u001b[0mresult\u001b[0m \u001b[0;34m=\u001b[0m \u001b[0mgetattr\u001b[0m\u001b[0;34m(\u001b[0m\u001b[0mx\u001b[0m\u001b[0;34m,\u001b[0m \u001b[0mname\u001b[0m\u001b[0;34m)\u001b[0m\u001b[0;34m(\u001b[0m\u001b[0my\u001b[0m\u001b[0;34m)\u001b[0m\u001b[0;34m\u001b[0m\u001b[0m\n\u001b[1;32m    717\u001b[0m                 \u001b[0;32mif\u001b[0m \u001b[0mresult\u001b[0m \u001b[0;32mis\u001b[0m \u001b[0mNotImplemented\u001b[0m\u001b[0;34m:\u001b[0m\u001b[0;34m\u001b[0m\u001b[0m\n\u001b[0;32m--> 718\u001b[0;31m                     \u001b[0;32mraise\u001b[0m \u001b[0mTypeError\u001b[0m\u001b[0;34m(\u001b[0m\u001b[0;34m\"invalid type comparison\"\u001b[0m\u001b[0;34m)\u001b[0m\u001b[0;34m\u001b[0m\u001b[0m\n\u001b[0m\u001b[1;32m    719\u001b[0m             \u001b[0;32mexcept\u001b[0m \u001b[0mAttributeError\u001b[0m\u001b[0;34m:\u001b[0m\u001b[0;34m\u001b[0m\u001b[0m\n\u001b[1;32m    720\u001b[0m                 \u001b[0mresult\u001b[0m \u001b[0;34m=\u001b[0m \u001b[0mop\u001b[0m\u001b[0;34m(\u001b[0m\u001b[0mx\u001b[0m\u001b[0;34m,\u001b[0m \u001b[0my\u001b[0m\u001b[0;34m)\u001b[0m\u001b[0;34m\u001b[0m\u001b[0m\n",
      "\u001b[0;31mTypeError\u001b[0m: invalid type comparison"
     ]
    },
    {
     "data": {
      "image/png": "[encoded data removed]",
      "text/plain": [
       "<matplotlib.figure.Figure at 0x7f089991abd0>"
      ]
     },
     "metadata": {},
     "output_type": "display_data"
    }
   ],
   "source": [
    "fig = plt.figure(figsize=(10,10))\n",
    "ax = fig.add_subplot(111)\n",
    "ax.axis('off')\n",
    "pumashp.plot(column='pcBB',ax=ax,legend=True)"
   ]
  },
  {
   "cell_type": "markdown",
   "metadata": {},
   "source": [
    "## Figure 2. Choropleth of NYC broadband access ratios"
   ]
  },
  {
   "cell_type": "markdown",
   "metadata": {},
   "source": [
    "# 4. LinkNYC: assess whether the locations of the linkNYC stations are supplying internet where it is needed.\n",
    "\n",
    "acquire the linkNYC locations and prepare them into a dataframe\n",
    "read it in from the HW9_fb55 folder in :\n",
    "https://github.com/fedhere/PUI2017_fb55\n",
    "\n",
    "Notice that you can also get a linkNYC locations shapefile from NYC open data, as I did to generate this, but I want you do to do some extra coordinates gymnastics for practice so use the one I provide."
   ]
  },
  {
   "cell_type": "code",
   "execution_count": 28,
   "metadata": {},
   "outputs": [],
   "source": [
    "linkNYC = pd.read_csv('linkNYClocations.csv')\n",
    "linkNYC = linkNYC.iloc[:,1:]"
   ]
  },
  {
   "cell_type": "code",
   "execution_count": 29,
   "metadata": {},
   "outputs": [
    {
     "data": {
      "text/html": [
       "<div>\n",
       "<table border=\"1\" class=\"dataframe\">\n",
       "  <thead>\n",
       "    <tr style=\"text-align: right;\">\n",
       "      <th></th>\n",
       "      <th>link_site</th>\n",
       "      <th>longitude</th>\n",
       "      <th>date_link_</th>\n",
       "      <th>latitude</th>\n",
       "    </tr>\n",
       "  </thead>\n",
       "  <tbody>\n",
       "    <tr>\n",
       "      <th>0</th>\n",
       "      <td>bk-01-138951</td>\n",
       "      <td>-73.942489</td>\n",
       "      <td>2017-07-01</td>\n",
       "      <td>40.701668</td>\n",
       "    </tr>\n",
       "    <tr>\n",
       "      <th>1</th>\n",
       "      <td>bk-01-109091</td>\n",
       "      <td>-73.942169</td>\n",
       "      <td>2017-07-01</td>\n",
       "      <td>40.701542</td>\n",
       "    </tr>\n",
       "    <tr>\n",
       "      <th>2</th>\n",
       "      <td>bk-01-143982</td>\n",
       "      <td>-73.942239</td>\n",
       "      <td>2017-07-01</td>\n",
       "      <td>40.701930</td>\n",
       "    </tr>\n",
       "    <tr>\n",
       "      <th>3</th>\n",
       "      <td>bk-01-109262</td>\n",
       "      <td>-73.942918</td>\n",
       "      <td>2017-04-28</td>\n",
       "      <td>40.705060</td>\n",
       "    </tr>\n",
       "    <tr>\n",
       "      <th>4</th>\n",
       "      <td>bk-01-125268</td>\n",
       "      <td>-73.953439</td>\n",
       "      <td>2017-03-31</td>\n",
       "      <td>40.728133</td>\n",
       "    </tr>\n",
       "  </tbody>\n",
       "</table>\n",
       "</div>"
      ],
      "text/plain": [
       "      link_site  longitude  date_link_   latitude\n",
       "0  bk-01-138951 -73.942489  2017-07-01  40.701668\n",
       "1  bk-01-109091 -73.942169  2017-07-01  40.701542\n",
       "2  bk-01-143982 -73.942239  2017-07-01  40.701930\n",
       "3  bk-01-109262 -73.942918  2017-04-28  40.705060\n",
       "4  bk-01-125268 -73.953439  2017-03-31  40.728133"
      ]
     },
     "execution_count": 29,
     "metadata": {},
     "output_type": "execute_result"
    }
   ],
   "source": [
    "linkNYC.head()"
   ]
  },
  {
   "cell_type": "code",
   "execution_count": 30,
   "metadata": {},
   "outputs": [
    {
     "data": {
      "text/plain": [
       "(1414, 4)"
      ]
     },
     "execution_count": 30,
     "metadata": {},
     "output_type": "execute_result"
    }
   ],
   "source": [
    "linkNYC.shape"
   ]
  },
  {
   "cell_type": "markdown",
   "metadata": {},
   "source": [
    "## combine long lat into a column like you did in the lab to greate a \"geometry\" column for the dataframe, then convert the dataframe into a GeoDataFrame _linkNYC_ and set native coordinates  frame to lat/lon as you did in the lab\n",
    "    linkNYC.crs = ..."
   ]
  },
  {
   "cell_type": "code",
   "execution_count": 31,
   "metadata": {},
   "outputs": [],
   "source": [
    "linkNYC['lonlat'] = zip(linkNYC.longitude,linkNYC.latitude)\n",
    "linkNYC['geometry'] = linkNYC['lonlat'].apply(lambda x:shapely.geometry.Point(x))"
   ]
  },
  {
   "cell_type": "code",
   "execution_count": 32,
   "metadata": {},
   "outputs": [
    {
     "data": {
      "text/html": [
       "<div>\n",
       "<table border=\"1\" class=\"dataframe\">\n",
       "  <thead>\n",
       "    <tr style=\"text-align: right;\">\n",
       "      <th></th>\n",
       "      <th>link_site</th>\n",
       "      <th>longitude</th>\n",
       "      <th>date_link_</th>\n",
       "      <th>latitude</th>\n",
       "      <th>lonlat</th>\n",
       "      <th>geometry</th>\n",
       "    </tr>\n",
       "  </thead>\n",
       "  <tbody>\n",
       "    <tr>\n",
       "      <th>0</th>\n",
       "      <td>bk-01-138951</td>\n",
       "      <td>-73.942489</td>\n",
       "      <td>2017-07-01</td>\n",
       "      <td>40.701668</td>\n",
       "      <td>(-73.94248859, 40.70166753)</td>\n",
       "      <td>POINT (-73.94248859 40.70166753)</td>\n",
       "    </tr>\n",
       "    <tr>\n",
       "      <th>1</th>\n",
       "      <td>bk-01-109091</td>\n",
       "      <td>-73.942169</td>\n",
       "      <td>2017-07-01</td>\n",
       "      <td>40.701542</td>\n",
       "      <td>(-73.9421692831, 40.7015421938)</td>\n",
       "      <td>POINT (-73.9421692831 40.7015421938)</td>\n",
       "    </tr>\n",
       "    <tr>\n",
       "      <th>2</th>\n",
       "      <td>bk-01-143982</td>\n",
       "      <td>-73.942239</td>\n",
       "      <td>2017-07-01</td>\n",
       "      <td>40.701930</td>\n",
       "      <td>(-73.9422392385, 40.7019303439)</td>\n",
       "      <td>POINT (-73.94223923850001 40.7019303439)</td>\n",
       "    </tr>\n",
       "    <tr>\n",
       "      <th>3</th>\n",
       "      <td>bk-01-109262</td>\n",
       "      <td>-73.942918</td>\n",
       "      <td>2017-04-28</td>\n",
       "      <td>40.705060</td>\n",
       "      <td>(-73.94291758, 40.70506042)</td>\n",
       "      <td>POINT (-73.94291758 40.70506042)</td>\n",
       "    </tr>\n",
       "    <tr>\n",
       "      <th>4</th>\n",
       "      <td>bk-01-125268</td>\n",
       "      <td>-73.953439</td>\n",
       "      <td>2017-03-31</td>\n",
       "      <td>40.728133</td>\n",
       "      <td>(-73.953439, 40.728133)</td>\n",
       "      <td>POINT (-73.953439 40.728133)</td>\n",
       "    </tr>\n",
       "  </tbody>\n",
       "</table>\n",
       "</div>"
      ],
      "text/plain": [
       "      link_site  longitude  date_link_   latitude  \\\n",
       "0  bk-01-138951 -73.942489  2017-07-01  40.701668   \n",
       "1  bk-01-109091 -73.942169  2017-07-01  40.701542   \n",
       "2  bk-01-143982 -73.942239  2017-07-01  40.701930   \n",
       "3  bk-01-109262 -73.942918  2017-04-28  40.705060   \n",
       "4  bk-01-125268 -73.953439  2017-03-31  40.728133   \n",
       "\n",
       "                            lonlat                                  geometry  \n",
       "0      (-73.94248859, 40.70166753)          POINT (-73.94248859 40.70166753)  \n",
       "1  (-73.9421692831, 40.7015421938)      POINT (-73.9421692831 40.7015421938)  \n",
       "2  (-73.9422392385, 40.7019303439)  POINT (-73.94223923850001 40.7019303439)  \n",
       "3      (-73.94291758, 40.70506042)          POINT (-73.94291758 40.70506042)  \n",
       "4          (-73.953439, 40.728133)              POINT (-73.953439 40.728133)  "
      ]
     },
     "execution_count": 32,
     "metadata": {},
     "output_type": "execute_result"
    }
   ],
   "source": [
    "linkNYC.head()"
   ]
  },
  {
   "cell_type": "markdown",
   "metadata": {},
   "source": [
    "# plot the location of the linkNYC stations on top of a choropleth of broadband access percentage in *5 equal intervals*\n",
    "\n",
    "I have also color coded the station by how long ago they have been installed, using the date datetime variable"
   ]
  },
  {
   "cell_type": "code",
   "execution_count": 33,
   "metadata": {},
   "outputs": [
    {
     "data": {
      "text/html": [
       "<div>\n",
       "<table border=\"1\" class=\"dataframe\">\n",
       "  <thead>\n",
       "    <tr style=\"text-align: right;\">\n",
       "      <th></th>\n",
       "      <th>link_site</th>\n",
       "      <th>longitude</th>\n",
       "      <th>date_link_</th>\n",
       "      <th>latitude</th>\n",
       "      <th>lonlat</th>\n",
       "      <th>geometry</th>\n",
       "    </tr>\n",
       "  </thead>\n",
       "  <tbody>\n",
       "    <tr>\n",
       "      <th>0</th>\n",
       "      <td>bk-01-138951</td>\n",
       "      <td>-73.942489</td>\n",
       "      <td>2017-07-01</td>\n",
       "      <td>40.701668</td>\n",
       "      <td>(-73.94248859, 40.70166753)</td>\n",
       "      <td>POINT (-73.94248859 40.70166753)</td>\n",
       "    </tr>\n",
       "    <tr>\n",
       "      <th>1</th>\n",
       "      <td>bk-01-109091</td>\n",
       "      <td>-73.942169</td>\n",
       "      <td>2017-07-01</td>\n",
       "      <td>40.701542</td>\n",
       "      <td>(-73.9421692831, 40.7015421938)</td>\n",
       "      <td>POINT (-73.9421692831 40.7015421938)</td>\n",
       "    </tr>\n",
       "    <tr>\n",
       "      <th>2</th>\n",
       "      <td>bk-01-143982</td>\n",
       "      <td>-73.942239</td>\n",
       "      <td>2017-07-01</td>\n",
       "      <td>40.701930</td>\n",
       "      <td>(-73.9422392385, 40.7019303439)</td>\n",
       "      <td>POINT (-73.94223923850001 40.7019303439)</td>\n",
       "    </tr>\n",
       "    <tr>\n",
       "      <th>3</th>\n",
       "      <td>bk-01-109262</td>\n",
       "      <td>-73.942918</td>\n",
       "      <td>2017-04-28</td>\n",
       "      <td>40.705060</td>\n",
       "      <td>(-73.94291758, 40.70506042)</td>\n",
       "      <td>POINT (-73.94291758 40.70506042)</td>\n",
       "    </tr>\n",
       "    <tr>\n",
       "      <th>4</th>\n",
       "      <td>bk-01-125268</td>\n",
       "      <td>-73.953439</td>\n",
       "      <td>2017-03-31</td>\n",
       "      <td>40.728133</td>\n",
       "      <td>(-73.953439, 40.728133)</td>\n",
       "      <td>POINT (-73.953439 40.728133)</td>\n",
       "    </tr>\n",
       "  </tbody>\n",
       "</table>\n",
       "</div>"
      ],
      "text/plain": [
       "      link_site  longitude  date_link_   latitude  \\\n",
       "0  bk-01-138951 -73.942489  2017-07-01  40.701668   \n",
       "1  bk-01-109091 -73.942169  2017-07-01  40.701542   \n",
       "2  bk-01-143982 -73.942239  2017-07-01  40.701930   \n",
       "3  bk-01-109262 -73.942918  2017-04-28  40.705060   \n",
       "4  bk-01-125268 -73.953439  2017-03-31  40.728133   \n",
       "\n",
       "                            lonlat                                  geometry  \n",
       "0      (-73.94248859, 40.70166753)          POINT (-73.94248859 40.70166753)  \n",
       "1  (-73.9421692831, 40.7015421938)      POINT (-73.9421692831 40.7015421938)  \n",
       "2  (-73.9422392385, 40.7019303439)  POINT (-73.94223923850001 40.7019303439)  \n",
       "3      (-73.94291758, 40.70506042)          POINT (-73.94291758 40.70506042)  \n",
       "4          (-73.953439, 40.728133)              POINT (-73.953439 40.728133)  "
      ]
     },
     "execution_count": 33,
     "metadata": {},
     "output_type": "execute_result"
    }
   ],
   "source": [
    "linkNYC = gpd.GeoDataFrame(linkNYC,geometry='geometry')\n",
    "linkNYC.head()"
   ]
  },
  {
   "cell_type": "code",
   "execution_count": 34,
   "metadata": {},
   "outputs": [],
   "source": [
    "linkNYC['days'] = pd.to_datetime(linkNYC.date_link_)"
   ]
  },
  {
   "cell_type": "code",
   "execution_count": 35,
   "metadata": {
    "scrolled": false
   },
   "outputs": [],
   "source": [
    "linkNYC['days'] = (datetime.datetime.now().date()-linkNYC.days).apply(lambda x: x.days)"
   ]
  },
  {
   "cell_type": "code",
   "execution_count": 36,
   "metadata": {},
   "outputs": [
    {
     "data": {
      "text/html": [
       "<div>\n",
       "<table border=\"1\" class=\"dataframe\">\n",
       "  <thead>\n",
       "    <tr style=\"text-align: right;\">\n",
       "      <th></th>\n",
       "      <th>link_site</th>\n",
       "      <th>longitude</th>\n",
       "      <th>date_link_</th>\n",
       "      <th>latitude</th>\n",
       "      <th>lonlat</th>\n",
       "      <th>geometry</th>\n",
       "      <th>days</th>\n",
       "    </tr>\n",
       "  </thead>\n",
       "  <tbody>\n",
       "    <tr>\n",
       "      <th>0</th>\n",
       "      <td>bk-01-138951</td>\n",
       "      <td>-73.942489</td>\n",
       "      <td>2017-07-01</td>\n",
       "      <td>40.701668</td>\n",
       "      <td>(-73.94248859, 40.70166753)</td>\n",
       "      <td>POINT (-73.94248859 40.70166753)</td>\n",
       "      <td>171</td>\n",
       "    </tr>\n",
       "    <tr>\n",
       "      <th>1</th>\n",
       "      <td>bk-01-109091</td>\n",
       "      <td>-73.942169</td>\n",
       "      <td>2017-07-01</td>\n",
       "      <td>40.701542</td>\n",
       "      <td>(-73.9421692831, 40.7015421938)</td>\n",
       "      <td>POINT (-73.9421692831 40.7015421938)</td>\n",
       "      <td>171</td>\n",
       "    </tr>\n",
       "    <tr>\n",
       "      <th>2</th>\n",
       "      <td>bk-01-143982</td>\n",
       "      <td>-73.942239</td>\n",
       "      <td>2017-07-01</td>\n",
       "      <td>40.701930</td>\n",
       "      <td>(-73.9422392385, 40.7019303439)</td>\n",
       "      <td>POINT (-73.94223923850001 40.7019303439)</td>\n",
       "      <td>171</td>\n",
       "    </tr>\n",
       "    <tr>\n",
       "      <th>3</th>\n",
       "      <td>bk-01-109262</td>\n",
       "      <td>-73.942918</td>\n",
       "      <td>2017-04-28</td>\n",
       "      <td>40.705060</td>\n",
       "      <td>(-73.94291758, 40.70506042)</td>\n",
       "      <td>POINT (-73.94291758 40.70506042)</td>\n",
       "      <td>235</td>\n",
       "    </tr>\n",
       "    <tr>\n",
       "      <th>4</th>\n",
       "      <td>bk-01-125268</td>\n",
       "      <td>-73.953439</td>\n",
       "      <td>2017-03-31</td>\n",
       "      <td>40.728133</td>\n",
       "      <td>(-73.953439, 40.728133)</td>\n",
       "      <td>POINT (-73.953439 40.728133)</td>\n",
       "      <td>263</td>\n",
       "    </tr>\n",
       "  </tbody>\n",
       "</table>\n",
       "</div>"
      ],
      "text/plain": [
       "      link_site  longitude  date_link_   latitude  \\\n",
       "0  bk-01-138951 -73.942489  2017-07-01  40.701668   \n",
       "1  bk-01-109091 -73.942169  2017-07-01  40.701542   \n",
       "2  bk-01-143982 -73.942239  2017-07-01  40.701930   \n",
       "3  bk-01-109262 -73.942918  2017-04-28  40.705060   \n",
       "4  bk-01-125268 -73.953439  2017-03-31  40.728133   \n",
       "\n",
       "                            lonlat                                  geometry  \\\n",
       "0      (-73.94248859, 40.70166753)          POINT (-73.94248859 40.70166753)   \n",
       "1  (-73.9421692831, 40.7015421938)      POINT (-73.9421692831 40.7015421938)   \n",
       "2  (-73.9422392385, 40.7019303439)  POINT (-73.94223923850001 40.7019303439)   \n",
       "3      (-73.94291758, 40.70506042)          POINT (-73.94291758 40.70506042)   \n",
       "4          (-73.953439, 40.728133)              POINT (-73.953439 40.728133)   \n",
       "\n",
       "   days  \n",
       "0   171  \n",
       "1   171  \n",
       "2   171  \n",
       "3   235  \n",
       "4   263  "
      ]
     },
     "execution_count": 36,
     "metadata": {},
     "output_type": "execute_result"
    }
   ],
   "source": [
    "linkNYC.head()"
   ]
  },
  {
   "cell_type": "code",
   "execution_count": 37,
   "metadata": {},
   "outputs": [
    {
     "ename": "ValueError",
     "evalue": "max() arg is an empty sequence",
     "output_type": "error",
     "traceback": [
      "\u001b[0;31m\u001b[0m",
      "\u001b[0;31mValueError\u001b[0mTraceback (most recent call last)",
      "\u001b[0;32m<ipython-input-37-b1b4cd7702d8>\u001b[0m in \u001b[0;36m<module>\u001b[0;34m()\u001b[0m\n\u001b[1;32m      2\u001b[0m \u001b[0max\u001b[0m \u001b[0;34m=\u001b[0m \u001b[0mfig\u001b[0m\u001b[0;34m.\u001b[0m\u001b[0madd_subplot\u001b[0m\u001b[0;34m(\u001b[0m\u001b[0;36m111\u001b[0m\u001b[0;34m)\u001b[0m\u001b[0;34m\u001b[0m\u001b[0m\n\u001b[1;32m      3\u001b[0m \u001b[0max\u001b[0m\u001b[0;34m.\u001b[0m\u001b[0maxis\u001b[0m\u001b[0;34m(\u001b[0m\u001b[0;34m'off'\u001b[0m\u001b[0;34m)\u001b[0m\u001b[0;34m\u001b[0m\u001b[0m\n\u001b[0;32m----> 4\u001b[0;31m \u001b[0mpumashp\u001b[0m\u001b[0;34m.\u001b[0m\u001b[0mplot\u001b[0m\u001b[0;34m(\u001b[0m\u001b[0mcolumn\u001b[0m\u001b[0;34m=\u001b[0m\u001b[0;34m'pcBB'\u001b[0m\u001b[0;34m,\u001b[0m\u001b[0medgecolor\u001b[0m\u001b[0;34m=\u001b[0m\u001b[0;34m'black'\u001b[0m\u001b[0;34m,\u001b[0m\u001b[0max\u001b[0m\u001b[0;34m=\u001b[0m\u001b[0max\u001b[0m\u001b[0;34m,\u001b[0m\u001b[0mlegend\u001b[0m\u001b[0;34m=\u001b[0m\u001b[0mTrue\u001b[0m\u001b[0;34m,\u001b[0m\u001b[0mcmap\u001b[0m\u001b[0;34m=\u001b[0m\u001b[0;34m'bone'\u001b[0m\u001b[0;34m,\u001b[0m\u001b[0mscheme\u001b[0m\u001b[0;34m=\u001b[0m\u001b[0;34m'equal_interval'\u001b[0m\u001b[0;34m)\u001b[0m\u001b[0;34m\u001b[0m\u001b[0m\n\u001b[0m\u001b[1;32m      5\u001b[0m \u001b[0mlinkNYC\u001b[0m\u001b[0;34m.\u001b[0m\u001b[0mplot\u001b[0m\u001b[0;34m(\u001b[0m\u001b[0mcolumn\u001b[0m\u001b[0;34m=\u001b[0m\u001b[0;34m'days'\u001b[0m\u001b[0;34m,\u001b[0m\u001b[0max\u001b[0m\u001b[0;34m=\u001b[0m\u001b[0max\u001b[0m\u001b[0;34m,\u001b[0m\u001b[0mmarkersize\u001b[0m\u001b[0;34m=\u001b[0m\u001b[0;36m5\u001b[0m\u001b[0;34m,\u001b[0m\u001b[0mcmap\u001b[0m\u001b[0;34m=\u001b[0m\u001b[0;34m'Oranges'\u001b[0m\u001b[0;34m,\u001b[0m\u001b[0mlegend\u001b[0m\u001b[0;34m=\u001b[0m\u001b[0mTrue\u001b[0m\u001b[0;34m)\u001b[0m\u001b[0;34m\u001b[0m\u001b[0m\n\u001b[1;32m      6\u001b[0m \u001b[0mleg\u001b[0m \u001b[0;34m=\u001b[0m \u001b[0max\u001b[0m\u001b[0;34m.\u001b[0m\u001b[0mget_legend\u001b[0m\u001b[0;34m(\u001b[0m\u001b[0;34m)\u001b[0m\u001b[0;34m\u001b[0m\u001b[0m\n",
      "\u001b[0;32m/opt/rh/anaconda/root/envs/PUI2016_Python2/lib/python2.7/site-packages/geopandas/geodataframe.pyc\u001b[0m in \u001b[0;36mplot\u001b[0;34m(self, *args, **kwargs)\u001b[0m\n\u001b[1;32m    467\u001b[0m     \u001b[0;32mdef\u001b[0m \u001b[0mplot\u001b[0m\u001b[0;34m(\u001b[0m\u001b[0mself\u001b[0m\u001b[0;34m,\u001b[0m \u001b[0;34m*\u001b[0m\u001b[0margs\u001b[0m\u001b[0;34m,\u001b[0m \u001b[0;34m**\u001b[0m\u001b[0mkwargs\u001b[0m\u001b[0;34m)\u001b[0m\u001b[0;34m:\u001b[0m\u001b[0;34m\u001b[0m\u001b[0m\n\u001b[1;32m    468\u001b[0m \u001b[0;34m\u001b[0m\u001b[0m\n\u001b[0;32m--> 469\u001b[0;31m         \u001b[0;32mreturn\u001b[0m \u001b[0mplot_dataframe\u001b[0m\u001b[0;34m(\u001b[0m\u001b[0mself\u001b[0m\u001b[0;34m,\u001b[0m \u001b[0;34m*\u001b[0m\u001b[0margs\u001b[0m\u001b[0;34m,\u001b[0m \u001b[0;34m**\u001b[0m\u001b[0mkwargs\u001b[0m\u001b[0;34m)\u001b[0m\u001b[0;34m\u001b[0m\u001b[0m\n\u001b[0m\u001b[1;32m    470\u001b[0m \u001b[0;34m\u001b[0m\u001b[0m\n\u001b[1;32m    471\u001b[0m     \u001b[0mplot\u001b[0m\u001b[0;34m.\u001b[0m\u001b[0m__doc__\u001b[0m \u001b[0;34m=\u001b[0m \u001b[0mplot_dataframe\u001b[0m\u001b[0;34m.\u001b[0m\u001b[0m__doc__\u001b[0m\u001b[0;34m\u001b[0m\u001b[0m\n",
      "\u001b[0;32m/opt/rh/anaconda/root/envs/PUI2016_Python2/lib/python2.7/site-packages/geopandas/plotting.pyc\u001b[0m in \u001b[0;36mplot_dataframe\u001b[0;34m(df, column, cmap, color, ax, categorical, legend, scheme, k, vmin, vmax, figsize, **style_kwds)\u001b[0m\n\u001b[1;32m    414\u001b[0m         \u001b[0mvalues\u001b[0m \u001b[0;34m=\u001b[0m \u001b[0mdf\u001b[0m\u001b[0;34m[\u001b[0m\u001b[0mcolumn\u001b[0m\u001b[0;34m]\u001b[0m\u001b[0;34m\u001b[0m\u001b[0m\n\u001b[1;32m    415\u001b[0m     \u001b[0;32mif\u001b[0m \u001b[0mscheme\u001b[0m \u001b[0;32mis\u001b[0m \u001b[0;32mnot\u001b[0m \u001b[0mNone\u001b[0m\u001b[0;34m:\u001b[0m\u001b[0;34m\u001b[0m\u001b[0m\n\u001b[0;32m--> 416\u001b[0;31m         \u001b[0mbinning\u001b[0m \u001b[0;34m=\u001b[0m \u001b[0m__pysal_choro\u001b[0m\u001b[0;34m(\u001b[0m\u001b[0mvalues\u001b[0m\u001b[0;34m,\u001b[0m \u001b[0mscheme\u001b[0m\u001b[0;34m,\u001b[0m \u001b[0mk\u001b[0m\u001b[0;34m=\u001b[0m\u001b[0mk\u001b[0m\u001b[0;34m)\u001b[0m\u001b[0;34m\u001b[0m\u001b[0m\n\u001b[0m\u001b[1;32m    417\u001b[0m         \u001b[0;31m# set categorical to True for creating the legend\u001b[0m\u001b[0;34m\u001b[0m\u001b[0;34m\u001b[0m\u001b[0m\n\u001b[1;32m    418\u001b[0m         \u001b[0mcategorical\u001b[0m \u001b[0;34m=\u001b[0m \u001b[0mTrue\u001b[0m\u001b[0;34m\u001b[0m\u001b[0m\n",
      "\u001b[0;32m/opt/rh/anaconda/root/envs/PUI2016_Python2/lib/python2.7/site-packages/geopandas/plotting.pyc\u001b[0m in \u001b[0;36m__pysal_choro\u001b[0;34m(values, scheme, k)\u001b[0m\n\u001b[1;32m    513\u001b[0m             raise ValueError(\"Invalid scheme. Scheme must be in the\"\n\u001b[1;32m    514\u001b[0m                              \" set: %r\" % schemes.keys())\n\u001b[0;32m--> 515\u001b[0;31m         \u001b[0mbinning\u001b[0m \u001b[0;34m=\u001b[0m \u001b[0mschemes\u001b[0m\u001b[0;34m[\u001b[0m\u001b[0mscheme\u001b[0m\u001b[0;34m]\u001b[0m\u001b[0;34m(\u001b[0m\u001b[0mvalues\u001b[0m\u001b[0;34m,\u001b[0m \u001b[0mk\u001b[0m\u001b[0;34m)\u001b[0m\u001b[0;34m\u001b[0m\u001b[0m\n\u001b[0m\u001b[1;32m    516\u001b[0m         \u001b[0;32mreturn\u001b[0m \u001b[0mbinning\u001b[0m\u001b[0;34m\u001b[0m\u001b[0m\n\u001b[1;32m    517\u001b[0m     \u001b[0;32mexcept\u001b[0m \u001b[0mImportError\u001b[0m\u001b[0;34m:\u001b[0m\u001b[0;34m\u001b[0m\u001b[0m\n",
      "\u001b[0;32m/opt/rh/anaconda/root/envs/PUI2016_Python2/lib/python2.7/site-packages/pysal/esda/mapclassify.pyc\u001b[0m in \u001b[0;36m__init__\u001b[0;34m(self, y, k)\u001b[0m\n\u001b[1;32m    746\u001b[0m \u001b[0;34m\u001b[0m\u001b[0m\n\u001b[1;32m    747\u001b[0m         \u001b[0mself\u001b[0m\u001b[0;34m.\u001b[0m\u001b[0mk\u001b[0m \u001b[0;34m=\u001b[0m \u001b[0mk\u001b[0m\u001b[0;34m\u001b[0m\u001b[0m\n\u001b[0;32m--> 748\u001b[0;31m         \u001b[0mMap_Classifier\u001b[0m\u001b[0;34m.\u001b[0m\u001b[0m__init__\u001b[0m\u001b[0;34m(\u001b[0m\u001b[0mself\u001b[0m\u001b[0;34m,\u001b[0m \u001b[0my\u001b[0m\u001b[0;34m)\u001b[0m\u001b[0;34m\u001b[0m\u001b[0m\n\u001b[0m\u001b[1;32m    749\u001b[0m         \u001b[0mself\u001b[0m\u001b[0;34m.\u001b[0m\u001b[0mname\u001b[0m \u001b[0;34m=\u001b[0m \u001b[0;34m'Equal Interval'\u001b[0m\u001b[0;34m\u001b[0m\u001b[0m\n\u001b[1;32m    750\u001b[0m \u001b[0;34m\u001b[0m\u001b[0m\n",
      "\u001b[0;32m/opt/rh/anaconda/root/envs/PUI2016_Python2/lib/python2.7/site-packages/pysal/esda/mapclassify.pyc\u001b[0m in \u001b[0;36m__init__\u001b[0;34m(self, y)\u001b[0m\n\u001b[1;32m    437\u001b[0m             \u001b[0my\u001b[0m \u001b[0;34m=\u001b[0m \u001b[0my\u001b[0m\u001b[0;34m.\u001b[0m\u001b[0mvalues\u001b[0m  \u001b[0;31m# fix for pandas\u001b[0m\u001b[0;34m\u001b[0m\u001b[0m\n\u001b[1;32m    438\u001b[0m         \u001b[0mself\u001b[0m\u001b[0;34m.\u001b[0m\u001b[0my\u001b[0m \u001b[0;34m=\u001b[0m \u001b[0my\u001b[0m\u001b[0;34m\u001b[0m\u001b[0m\n\u001b[0;32m--> 439\u001b[0;31m         \u001b[0mself\u001b[0m\u001b[0;34m.\u001b[0m\u001b[0m_classify\u001b[0m\u001b[0;34m(\u001b[0m\u001b[0;34m)\u001b[0m\u001b[0;34m\u001b[0m\u001b[0m\n\u001b[0m\u001b[1;32m    440\u001b[0m         \u001b[0mself\u001b[0m\u001b[0;34m.\u001b[0m\u001b[0m_summary\u001b[0m\u001b[0;34m(\u001b[0m\u001b[0;34m)\u001b[0m\u001b[0;34m\u001b[0m\u001b[0m\n\u001b[1;32m    441\u001b[0m \u001b[0;34m\u001b[0m\u001b[0m\n",
      "\u001b[0;32m/opt/rh/anaconda/root/envs/PUI2016_Python2/lib/python2.7/site-packages/pysal/esda/mapclassify.pyc\u001b[0m in \u001b[0;36m_classify\u001b[0;34m(self)\u001b[0m\n\u001b[1;32m    448\u001b[0m \u001b[0;34m\u001b[0m\u001b[0m\n\u001b[1;32m    449\u001b[0m     \u001b[0;32mdef\u001b[0m \u001b[0m_classify\u001b[0m\u001b[0;34m(\u001b[0m\u001b[0mself\u001b[0m\u001b[0;34m)\u001b[0m\u001b[0;34m:\u001b[0m\u001b[0;34m\u001b[0m\u001b[0m\n\u001b[0;32m--> 450\u001b[0;31m         \u001b[0mself\u001b[0m\u001b[0;34m.\u001b[0m\u001b[0m_set_bins\u001b[0m\u001b[0;34m(\u001b[0m\u001b[0;34m)\u001b[0m\u001b[0;34m\u001b[0m\u001b[0m\n\u001b[0m\u001b[1;32m    451\u001b[0m         \u001b[0mself\u001b[0m\u001b[0;34m.\u001b[0m\u001b[0myb\u001b[0m\u001b[0;34m,\u001b[0m \u001b[0mself\u001b[0m\u001b[0;34m.\u001b[0m\u001b[0mcounts\u001b[0m \u001b[0;34m=\u001b[0m \u001b[0mbin1d\u001b[0m\u001b[0;34m(\u001b[0m\u001b[0mself\u001b[0m\u001b[0;34m.\u001b[0m\u001b[0my\u001b[0m\u001b[0;34m,\u001b[0m \u001b[0mself\u001b[0m\u001b[0;34m.\u001b[0m\u001b[0mbins\u001b[0m\u001b[0;34m)\u001b[0m\u001b[0;34m\u001b[0m\u001b[0m\n\u001b[1;32m    452\u001b[0m \u001b[0;34m\u001b[0m\u001b[0m\n",
      "\u001b[0;32m/opt/rh/anaconda/root/envs/PUI2016_Python2/lib/python2.7/site-packages/pysal/esda/mapclassify.pyc\u001b[0m in \u001b[0;36m_set_bins\u001b[0;34m(self)\u001b[0m\n\u001b[1;32m    752\u001b[0m         \u001b[0my\u001b[0m \u001b[0;34m=\u001b[0m \u001b[0mself\u001b[0m\u001b[0;34m.\u001b[0m\u001b[0my\u001b[0m\u001b[0;34m\u001b[0m\u001b[0m\n\u001b[1;32m    753\u001b[0m         \u001b[0mk\u001b[0m \u001b[0;34m=\u001b[0m \u001b[0mself\u001b[0m\u001b[0;34m.\u001b[0m\u001b[0mk\u001b[0m\u001b[0;34m\u001b[0m\u001b[0m\n\u001b[0;32m--> 754\u001b[0;31m         \u001b[0mmax_y\u001b[0m \u001b[0;34m=\u001b[0m \u001b[0mmax\u001b[0m\u001b[0;34m(\u001b[0m\u001b[0my\u001b[0m\u001b[0;34m)\u001b[0m\u001b[0;34m\u001b[0m\u001b[0m\n\u001b[0m\u001b[1;32m    755\u001b[0m         \u001b[0mmin_y\u001b[0m \u001b[0;34m=\u001b[0m \u001b[0mmin\u001b[0m\u001b[0;34m(\u001b[0m\u001b[0my\u001b[0m\u001b[0;34m)\u001b[0m\u001b[0;34m\u001b[0m\u001b[0m\n\u001b[1;32m    756\u001b[0m         \u001b[0mrg\u001b[0m \u001b[0;34m=\u001b[0m \u001b[0mmax_y\u001b[0m \u001b[0;34m-\u001b[0m \u001b[0mmin_y\u001b[0m\u001b[0;34m\u001b[0m\u001b[0m\n",
      "\u001b[0;31mValueError\u001b[0m: max() arg is an empty sequence"
     ]
    },
    {
     "data": {
      "image/png": "[encoded data removed]",
      "text/plain": [
       "<matplotlib.figure.Figure at 0x7f085905f650>"
      ]
     },
     "metadata": {},
     "output_type": "display_data"
    }
   ],
   "source": [
    "fig = plt.figure(figsize=(12,11))\n",
    "ax = fig.add_subplot(111)\n",
    "ax.axis('off')\n",
    "pumashp.plot(column='pcBB',edgecolor='black',ax=ax,legend=True,cmap='bone',scheme='equal_interval')\n",
    "linkNYC.plot(column='days',ax=ax,markersize=5,cmap='Oranges',legend=True)\n",
    "leg = ax.get_legend()\n",
    "leg.set_bbox_to_anchor((0., 0.7, 0.3, 0.2))"
   ]
  },
  {
   "cell_type": "markdown",
   "metadata": {},
   "source": [
    "## Figure 3. the location of the linkNYC stations with colors indicating their ages on top of a choropleth of broadband access percentage in 5 equal intervals"
   ]
  },
  {
   "cell_type": "markdown",
   "metadata": {},
   "source": [
    "# 5 Find the number of linkNYC locations per person by PUMA\n",
    "\n",
    "## 5.1 with the AFF API from ACS get the total population by puma and merge it into your GeoDF"
   ]
  },
  {
   "cell_type": "markdown",
   "metadata": {},
   "source": [
    "the ACS population by  variable is B00001_001E, and of course your geometry is PUMA, _public%20use%20microdata%20area:*_, as before"
   ]
  },
  {
   "cell_type": "code",
   "execution_count": 38,
   "metadata": {},
   "outputs": [],
   "source": [
    "keyPop = 'B00001_001E'\n",
    "url = \"https://api.census.gov/data/2016/acs/acs1?get=\" + keyPop +\\\n",
    "\",NAME&for=public%20use%20microdata%20area:*&in=state:36&key=\" + myAPI\n",
    "resp = requests.request('GET', url).content\n",
    "pumaPop = pd.read_csv(io.StringIO(resp.decode('utf-8').replace('[','').replace(']','')))"
   ]
  },
  {
   "cell_type": "code",
   "execution_count": 39,
   "metadata": {},
   "outputs": [],
   "source": [
    "pumaPop = pumaPop[['B00001_001E','public use microdata area']].rename(columns={'B00001_001E':'Pop'})"
   ]
  },
  {
   "cell_type": "code",
   "execution_count": 40,
   "metadata": {},
   "outputs": [],
   "source": [
    "pumaPop['public use microdata area'] = pumaPop['public use microdata area'].astype('str')"
   ]
  },
  {
   "cell_type": "code",
   "execution_count": 41,
   "metadata": {},
   "outputs": [
    {
     "data": {
      "text/html": [
       "<div>\n",
       "<table border=\"1\" class=\"dataframe\">\n",
       "  <thead>\n",
       "    <tr style=\"text-align: right;\">\n",
       "      <th></th>\n",
       "      <th>Pop</th>\n",
       "      <th>public use microdata area</th>\n",
       "    </tr>\n",
       "  </thead>\n",
       "  <tbody>\n",
       "    <tr>\n",
       "      <th>0</th>\n",
       "      <td>3075</td>\n",
       "      <td>100</td>\n",
       "    </tr>\n",
       "    <tr>\n",
       "      <th>1</th>\n",
       "      <td>4356</td>\n",
       "      <td>200</td>\n",
       "    </tr>\n",
       "    <tr>\n",
       "      <th>2</th>\n",
       "      <td>2736</td>\n",
       "      <td>300</td>\n",
       "    </tr>\n",
       "    <tr>\n",
       "      <th>3</th>\n",
       "      <td>2722</td>\n",
       "      <td>401</td>\n",
       "    </tr>\n",
       "    <tr>\n",
       "      <th>4</th>\n",
       "      <td>2874</td>\n",
       "      <td>402</td>\n",
       "    </tr>\n",
       "  </tbody>\n",
       "</table>\n",
       "</div>"
      ],
      "text/plain": [
       "    Pop public use microdata area\n",
       "0  3075                       100\n",
       "1  4356                       200\n",
       "2  2736                       300\n",
       "3  2722                       401\n",
       "4  2874                       402"
      ]
     },
     "execution_count": 41,
     "metadata": {},
     "output_type": "execute_result"
    }
   ],
   "source": [
    "pumaPop.head()"
   ]
  },
  {
   "cell_type": "code",
   "execution_count": 42,
   "metadata": {},
   "outputs": [],
   "source": [
    "pumashp = pumashp.merge(pumaPop,on='public use microdata area')"
   ]
  },
  {
   "cell_type": "code",
   "execution_count": 43,
   "metadata": {},
   "outputs": [
    {
     "data": {
      "text/html": [
       "<div>\n",
       "<table border=\"1\" class=\"dataframe\">\n",
       "  <thead>\n",
       "    <tr style=\"text-align: right;\">\n",
       "      <th></th>\n",
       "      <th>shape_area</th>\n",
       "      <th>shape_leng</th>\n",
       "      <th>puma</th>\n",
       "      <th>gid</th>\n",
       "      <th>Percent</th>\n",
       "      <th>error</th>\n",
       "      <th>population</th>\n",
       "      <th>count_link</th>\n",
       "      <th>linkNYCp10</th>\n",
       "      <th>geometry</th>\n",
       "      <th>pcBB</th>\n",
       "      <th>Pop</th>\n",
       "      <th>public use microdata area</th>\n",
       "    </tr>\n",
       "  </thead>\n",
       "  <tbody>\n",
       "  </tbody>\n",
       "</table>\n",
       "</div>"
      ],
      "text/plain": [
       "Empty GeoDataFrame\n",
       "Columns: [shape_area, shape_leng, puma, gid, Percent, error, population, count_link, linkNYCp10, geometry, pcBB, Pop, public use microdata area]\n",
       "Index: []"
      ]
     },
     "execution_count": 43,
     "metadata": {},
     "output_type": "execute_result"
    }
   ],
   "source": [
    "pumashp.head()"
   ]
  },
  {
   "cell_type": "markdown",
   "metadata": {},
   "source": [
    "## 5.2 find the number of station per 100 people per PUMA\n",
    "**Important** you can do this with an sjoin(). But sjoin() should not be used with lat/lon coordinates cause they are **not \"flat coordinates\"**. Since spattial joins are done in cartesian geometry the only coordinate systems suitable to spatial joins are flat coordinate plane systems, which in the NYC area is 2263. So before you proceed to the sjoin you have to convert both pumashp and linkNYC to 2263 (for example with GeoDataFrame method .to_crs(epsg=...) )\n",
    "\n",
    "\n",
    "(A note: You can also do this by hand by asking for each point if it is in any of the regions, for example in a for loop. But that is escruciatingly slow, unless you get smart about your requests (for example for a given PUMA not asking if the coordinates of a point are very different from the center of a PUMA). With the new version of geopandas this is not needed, cause the sjoin is fast, but with the older versions this was sometimes better) )"
   ]
  },
  {
   "cell_type": "markdown",
   "metadata": {},
   "source": [
    "convert coordinates for pumashp and linkNYC"
   ]
  },
  {
   "cell_type": "code",
   "execution_count": 44,
   "metadata": {},
   "outputs": [
    {
     "data": {
      "text/plain": [
       "{'init': 'epsg:2263', 'no_defs': True}"
      ]
     },
     "execution_count": 44,
     "metadata": {},
     "output_type": "execute_result"
    }
   ],
   "source": [
    "linkNYC.crs = from_epsg(4326)\n",
    "linkNYC = linkNYC.to_crs(epsg=2263)\n",
    "linkNYC.crs"
   ]
  },
  {
   "cell_type": "code",
   "execution_count": 45,
   "metadata": {},
   "outputs": [
    {
     "data": {
      "text/plain": [
       "{'init': 'epsg:2263', 'no_defs': True}"
      ]
     },
     "execution_count": 45,
     "metadata": {},
     "output_type": "execute_result"
    }
   ],
   "source": [
    "pumashp = pumashp.to_crs(epsg=2263)\n",
    "pumashp.crs"
   ]
  },
  {
   "cell_type": "code",
   "execution_count": 46,
   "metadata": {},
   "outputs": [
    {
     "data": {
      "text/html": [
       "<div>\n",
       "<table border=\"1\" class=\"dataframe\">\n",
       "  <thead>\n",
       "    <tr style=\"text-align: right;\">\n",
       "      <th></th>\n",
       "      <th>shape_area</th>\n",
       "      <th>shape_leng</th>\n",
       "      <th>puma</th>\n",
       "      <th>gid</th>\n",
       "      <th>Percent</th>\n",
       "      <th>error</th>\n",
       "      <th>population</th>\n",
       "      <th>count_link</th>\n",
       "      <th>linkNYCp10</th>\n",
       "      <th>geometry</th>\n",
       "      <th>pcBB</th>\n",
       "      <th>Pop</th>\n",
       "      <th>public use microdata area</th>\n",
       "    </tr>\n",
       "  </thead>\n",
       "  <tbody>\n",
       "  </tbody>\n",
       "</table>\n",
       "</div>"
      ],
      "text/plain": [
       "Empty GeoDataFrame\n",
       "Columns: [shape_area, shape_leng, puma, gid, Percent, error, population, count_link, linkNYCp10, geometry, pcBB, Pop, public use microdata area]\n",
       "Index: []"
      ]
     },
     "execution_count": 46,
     "metadata": {},
     "output_type": "execute_result"
    }
   ],
   "source": [
    "pumashp.head()"
   ]
  },
  {
   "cell_type": "code",
   "execution_count": 47,
   "metadata": {},
   "outputs": [
    {
     "data": {
      "text/html": [
       "<div>\n",
       "<table border=\"1\" class=\"dataframe\">\n",
       "  <thead>\n",
       "    <tr style=\"text-align: right;\">\n",
       "      <th></th>\n",
       "      <th>link_site</th>\n",
       "      <th>longitude</th>\n",
       "      <th>date_link_</th>\n",
       "      <th>latitude</th>\n",
       "      <th>lonlat</th>\n",
       "      <th>geometry</th>\n",
       "      <th>days</th>\n",
       "    </tr>\n",
       "  </thead>\n",
       "  <tbody>\n",
       "    <tr>\n",
       "      <th>0</th>\n",
       "      <td>bk-01-138951</td>\n",
       "      <td>-73.942489</td>\n",
       "      <td>2017-07-01</td>\n",
       "      <td>40.701668</td>\n",
       "      <td>(-73.94248859, 40.70166753)</td>\n",
       "      <td>POINT (1000196.411360609 194918.1045344363)</td>\n",
       "      <td>171</td>\n",
       "    </tr>\n",
       "    <tr>\n",
       "      <th>1</th>\n",
       "      <td>bk-01-109091</td>\n",
       "      <td>-73.942169</td>\n",
       "      <td>2017-07-01</td>\n",
       "      <td>40.701542</td>\n",
       "      <td>(-73.9421692831, 40.7015421938)</td>\n",
       "      <td>POINT (1000284.976955119 194872.4991186759)</td>\n",
       "      <td>171</td>\n",
       "    </tr>\n",
       "    <tr>\n",
       "      <th>2</th>\n",
       "      <td>bk-01-143982</td>\n",
       "      <td>-73.942239</td>\n",
       "      <td>2017-07-01</td>\n",
       "      <td>40.701930</td>\n",
       "      <td>(-73.9422392385, 40.7019303439)</td>\n",
       "      <td>POINT (1000265.48686938 195013.900946364)</td>\n",
       "      <td>171</td>\n",
       "    </tr>\n",
       "    <tr>\n",
       "      <th>3</th>\n",
       "      <td>bk-01-109262</td>\n",
       "      <td>-73.942918</td>\n",
       "      <td>2017-04-28</td>\n",
       "      <td>40.705060</td>\n",
       "      <td>(-73.94291758, 40.70506042)</td>\n",
       "      <td>POINT (1000076.658138533 196154.157733508)</td>\n",
       "      <td>235</td>\n",
       "    </tr>\n",
       "    <tr>\n",
       "      <th>4</th>\n",
       "      <td>bk-01-125268</td>\n",
       "      <td>-73.953439</td>\n",
       "      <td>2017-03-31</td>\n",
       "      <td>40.728133</td>\n",
       "      <td>(-73.953439, 40.728133)</td>\n",
       "      <td>POINT (997155.0239397929 204558.4761382252)</td>\n",
       "      <td>263</td>\n",
       "    </tr>\n",
       "  </tbody>\n",
       "</table>\n",
       "</div>"
      ],
      "text/plain": [
       "      link_site  longitude  date_link_   latitude  \\\n",
       "0  bk-01-138951 -73.942489  2017-07-01  40.701668   \n",
       "1  bk-01-109091 -73.942169  2017-07-01  40.701542   \n",
       "2  bk-01-143982 -73.942239  2017-07-01  40.701930   \n",
       "3  bk-01-109262 -73.942918  2017-04-28  40.705060   \n",
       "4  bk-01-125268 -73.953439  2017-03-31  40.728133   \n",
       "\n",
       "                            lonlat  \\\n",
       "0      (-73.94248859, 40.70166753)   \n",
       "1  (-73.9421692831, 40.7015421938)   \n",
       "2  (-73.9422392385, 40.7019303439)   \n",
       "3      (-73.94291758, 40.70506042)   \n",
       "4          (-73.953439, 40.728133)   \n",
       "\n",
       "                                      geometry  days  \n",
       "0  POINT (1000196.411360609 194918.1045344363)   171  \n",
       "1  POINT (1000284.976955119 194872.4991186759)   171  \n",
       "2    POINT (1000265.48686938 195013.900946364)   171  \n",
       "3   POINT (1000076.658138533 196154.157733508)   235  \n",
       "4  POINT (997155.0239397929 204558.4761382252)   263  "
      ]
     },
     "execution_count": 47,
     "metadata": {},
     "output_type": "execute_result"
    }
   ],
   "source": [
    "linkNYC.head()"
   ]
  },
  {
   "cell_type": "markdown",
   "metadata": {},
   "source": [
    "create a geodataframe with a spatial join and use groupby to count the number of linkNYC in each PUMA"
   ]
  },
  {
   "cell_type": "code",
   "execution_count": 48,
   "metadata": {},
   "outputs": [
    {
     "data": {
      "text/html": [
       "<div>\n",
       "<table border=\"1\" class=\"dataframe\">\n",
       "  <thead>\n",
       "    <tr style=\"text-align: right;\">\n",
       "      <th></th>\n",
       "      <th>date_link_</th>\n",
       "    </tr>\n",
       "    <tr>\n",
       "      <th>puma</th>\n",
       "      <th></th>\n",
       "    </tr>\n",
       "  </thead>\n",
       "  <tbody>\n",
       "  </tbody>\n",
       "</table>\n",
       "</div>"
      ],
      "text/plain": [
       "Empty DataFrame\n",
       "Columns: [date_link_]\n",
       "Index: []"
      ]
     },
     "execution_count": 48,
     "metadata": {},
     "output_type": "execute_result"
    }
   ],
   "source": [
    "linkpp = gpd.sjoin(pumashp,linkNYC).groupby('puma').count()[['date_link_']]\n",
    "linkpp.head()"
   ]
  },
  {
   "cell_type": "markdown",
   "metadata": {},
   "source": [
    "finally merge back into the pumashp. Make sure you use the correct scheme for merging: you want to have _all_ the PUMAs, not only the ones that have linkNYC in them in the final geoDF"
   ]
  },
  {
   "cell_type": "code",
   "execution_count": 49,
   "metadata": {},
   "outputs": [],
   "source": [
    "linkpp.reset_index(inplace=True)"
   ]
  },
  {
   "cell_type": "code",
   "execution_count": 50,
   "metadata": {},
   "outputs": [],
   "source": [
    "pumashplc = pumashp.merge(linkpp,on='puma',how='outer').fillna(0)\n",
    "pumashplc['linkNYCp100p'] = pumashplc['date_link_']/pumashplc['Pop']*100"
   ]
  },
  {
   "cell_type": "code",
   "execution_count": 51,
   "metadata": {},
   "outputs": [
    {
     "data": {
      "text/html": [
       "<div>\n",
       "<table border=\"1\" class=\"dataframe\">\n",
       "  <thead>\n",
       "    <tr style=\"text-align: right;\">\n",
       "      <th></th>\n",
       "      <th>shape_area</th>\n",
       "      <th>shape_leng</th>\n",
       "      <th>gid</th>\n",
       "      <th>Percent</th>\n",
       "      <th>error</th>\n",
       "      <th>population</th>\n",
       "      <th>count_link</th>\n",
       "      <th>linkNYCp10</th>\n",
       "      <th>geometry</th>\n",
       "      <th>pcBB</th>\n",
       "      <th>Pop</th>\n",
       "      <th>public use microdata area</th>\n",
       "      <th>puma</th>\n",
       "      <th>date_link_</th>\n",
       "      <th>linkNYCp100p</th>\n",
       "    </tr>\n",
       "  </thead>\n",
       "  <tbody>\n",
       "  </tbody>\n",
       "</table>\n",
       "</div>"
      ],
      "text/plain": [
       "Empty GeoDataFrame\n",
       "Columns: [shape_area, shape_leng, gid, Percent, error, population, count_link, linkNYCp10, geometry, pcBB, Pop, public use microdata area, puma, date_link_, linkNYCp100p]\n",
       "Index: []"
      ]
     },
     "execution_count": 51,
     "metadata": {},
     "output_type": "execute_result"
    }
   ],
   "source": [
    "pumashplc.head()"
   ]
  },
  {
   "cell_type": "code",
   "execution_count": 52,
   "metadata": {},
   "outputs": [
    {
     "data": {
      "text/plain": [
       "count    0.0\n",
       "mean     NaN\n",
       "std      NaN\n",
       "min      NaN\n",
       "25%      NaN\n",
       "50%      NaN\n",
       "75%      NaN\n",
       "max      NaN\n",
       "Name: linkNYCp100p, dtype: float64"
      ]
     },
     "execution_count": 52,
     "metadata": {},
     "output_type": "execute_result"
    }
   ],
   "source": [
    "#linkNYC per 100 inhabitants\n",
    "pumashplc[\"linkNYCp100p\"].describe()"
   ]
  },
  {
   "cell_type": "markdown",
   "metadata": {},
   "source": [
    "# at last, plot the linkNYC locations on top of a choropleth of number of stations per 100 people  in 10 equal intervals\n"
   ]
  },
  {
   "cell_type": "code",
   "execution_count": 53,
   "metadata": {},
   "outputs": [
    {
     "ename": "ValueError",
     "evalue": "max() arg is an empty sequence",
     "output_type": "error",
     "traceback": [
      "\u001b[0;31m\u001b[0m",
      "\u001b[0;31mValueError\u001b[0mTraceback (most recent call last)",
      "\u001b[0;32m<ipython-input-53-8aa824d32a73>\u001b[0m in \u001b[0;36m<module>\u001b[0;34m()\u001b[0m\n\u001b[1;32m      2\u001b[0m \u001b[0max\u001b[0m \u001b[0;34m=\u001b[0m \u001b[0mfig\u001b[0m\u001b[0;34m.\u001b[0m\u001b[0madd_subplot\u001b[0m\u001b[0;34m(\u001b[0m\u001b[0;36m111\u001b[0m\u001b[0;34m)\u001b[0m\u001b[0;34m\u001b[0m\u001b[0m\n\u001b[1;32m      3\u001b[0m \u001b[0max\u001b[0m\u001b[0;34m.\u001b[0m\u001b[0maxis\u001b[0m\u001b[0;34m(\u001b[0m\u001b[0;34m'off'\u001b[0m\u001b[0;34m)\u001b[0m\u001b[0;34m\u001b[0m\u001b[0m\n\u001b[0;32m----> 4\u001b[0;31m \u001b[0mpumashplc\u001b[0m\u001b[0;34m.\u001b[0m\u001b[0mplot\u001b[0m\u001b[0;34m(\u001b[0m\u001b[0mcolumn\u001b[0m\u001b[0;34m=\u001b[0m\u001b[0;34m'linkNYCp100p'\u001b[0m\u001b[0;34m,\u001b[0m\u001b[0medgecolor\u001b[0m\u001b[0;34m=\u001b[0m\u001b[0;34m'grey'\u001b[0m\u001b[0;34m,\u001b[0m\u001b[0max\u001b[0m\u001b[0;34m=\u001b[0m\u001b[0max\u001b[0m\u001b[0;34m,\u001b[0m\u001b[0mlegend\u001b[0m\u001b[0;34m=\u001b[0m\u001b[0mTrue\u001b[0m\u001b[0;34m,\u001b[0m\u001b[0mcmap\u001b[0m\u001b[0;34m=\u001b[0m\u001b[0;34m'bone'\u001b[0m\u001b[0;34m,\u001b[0m\u001b[0mscheme\u001b[0m\u001b[0;34m=\u001b[0m\u001b[0;34m'equal_interval'\u001b[0m\u001b[0;34m,\u001b[0m\u001b[0mk\u001b[0m\u001b[0;34m=\u001b[0m\u001b[0;36m10\u001b[0m\u001b[0;34m)\u001b[0m\u001b[0;34m\u001b[0m\u001b[0m\n\u001b[0m\u001b[1;32m      5\u001b[0m \u001b[0mlinkNYC\u001b[0m\u001b[0;34m.\u001b[0m\u001b[0mplot\u001b[0m\u001b[0;34m(\u001b[0m\u001b[0mcolumn\u001b[0m\u001b[0;34m=\u001b[0m\u001b[0;34m'days'\u001b[0m\u001b[0;34m,\u001b[0m\u001b[0max\u001b[0m\u001b[0;34m=\u001b[0m\u001b[0max\u001b[0m\u001b[0;34m,\u001b[0m\u001b[0mmarkersize\u001b[0m\u001b[0;34m=\u001b[0m\u001b[0;36m5\u001b[0m\u001b[0;34m,\u001b[0m\u001b[0mcmap\u001b[0m\u001b[0;34m=\u001b[0m\u001b[0;34m'Oranges'\u001b[0m\u001b[0;34m,\u001b[0m\u001b[0mlegend\u001b[0m\u001b[0;34m=\u001b[0m\u001b[0mTrue\u001b[0m\u001b[0;34m)\u001b[0m\u001b[0;34m\u001b[0m\u001b[0m\n\u001b[1;32m      6\u001b[0m \u001b[0mleg\u001b[0m \u001b[0;34m=\u001b[0m \u001b[0max\u001b[0m\u001b[0;34m.\u001b[0m\u001b[0mget_legend\u001b[0m\u001b[0;34m(\u001b[0m\u001b[0;34m)\u001b[0m\u001b[0;34m\u001b[0m\u001b[0m\n",
      "\u001b[0;32m/opt/rh/anaconda/root/envs/PUI2016_Python2/lib/python2.7/site-packages/geopandas/geodataframe.pyc\u001b[0m in \u001b[0;36mplot\u001b[0;34m(self, *args, **kwargs)\u001b[0m\n\u001b[1;32m    467\u001b[0m     \u001b[0;32mdef\u001b[0m \u001b[0mplot\u001b[0m\u001b[0;34m(\u001b[0m\u001b[0mself\u001b[0m\u001b[0;34m,\u001b[0m \u001b[0;34m*\u001b[0m\u001b[0margs\u001b[0m\u001b[0;34m,\u001b[0m \u001b[0;34m**\u001b[0m\u001b[0mkwargs\u001b[0m\u001b[0;34m)\u001b[0m\u001b[0;34m:\u001b[0m\u001b[0;34m\u001b[0m\u001b[0m\n\u001b[1;32m    468\u001b[0m \u001b[0;34m\u001b[0m\u001b[0m\n\u001b[0;32m--> 469\u001b[0;31m         \u001b[0;32mreturn\u001b[0m \u001b[0mplot_dataframe\u001b[0m\u001b[0;34m(\u001b[0m\u001b[0mself\u001b[0m\u001b[0;34m,\u001b[0m \u001b[0;34m*\u001b[0m\u001b[0margs\u001b[0m\u001b[0;34m,\u001b[0m \u001b[0;34m**\u001b[0m\u001b[0mkwargs\u001b[0m\u001b[0;34m)\u001b[0m\u001b[0;34m\u001b[0m\u001b[0m\n\u001b[0m\u001b[1;32m    470\u001b[0m \u001b[0;34m\u001b[0m\u001b[0m\n\u001b[1;32m    471\u001b[0m     \u001b[0mplot\u001b[0m\u001b[0;34m.\u001b[0m\u001b[0m__doc__\u001b[0m \u001b[0;34m=\u001b[0m \u001b[0mplot_dataframe\u001b[0m\u001b[0;34m.\u001b[0m\u001b[0m__doc__\u001b[0m\u001b[0;34m\u001b[0m\u001b[0m\n",
      "\u001b[0;32m/opt/rh/anaconda/root/envs/PUI2016_Python2/lib/python2.7/site-packages/geopandas/plotting.pyc\u001b[0m in \u001b[0;36mplot_dataframe\u001b[0;34m(df, column, cmap, color, ax, categorical, legend, scheme, k, vmin, vmax, figsize, **style_kwds)\u001b[0m\n\u001b[1;32m    414\u001b[0m         \u001b[0mvalues\u001b[0m \u001b[0;34m=\u001b[0m \u001b[0mdf\u001b[0m\u001b[0;34m[\u001b[0m\u001b[0mcolumn\u001b[0m\u001b[0;34m]\u001b[0m\u001b[0;34m\u001b[0m\u001b[0m\n\u001b[1;32m    415\u001b[0m     \u001b[0;32mif\u001b[0m \u001b[0mscheme\u001b[0m \u001b[0;32mis\u001b[0m \u001b[0;32mnot\u001b[0m \u001b[0mNone\u001b[0m\u001b[0;34m:\u001b[0m\u001b[0;34m\u001b[0m\u001b[0m\n\u001b[0;32m--> 416\u001b[0;31m         \u001b[0mbinning\u001b[0m \u001b[0;34m=\u001b[0m \u001b[0m__pysal_choro\u001b[0m\u001b[0;34m(\u001b[0m\u001b[0mvalues\u001b[0m\u001b[0;34m,\u001b[0m \u001b[0mscheme\u001b[0m\u001b[0;34m,\u001b[0m \u001b[0mk\u001b[0m\u001b[0;34m=\u001b[0m\u001b[0mk\u001b[0m\u001b[0;34m)\u001b[0m\u001b[0;34m\u001b[0m\u001b[0m\n\u001b[0m\u001b[1;32m    417\u001b[0m         \u001b[0;31m# set categorical to True for creating the legend\u001b[0m\u001b[0;34m\u001b[0m\u001b[0;34m\u001b[0m\u001b[0m\n\u001b[1;32m    418\u001b[0m         \u001b[0mcategorical\u001b[0m \u001b[0;34m=\u001b[0m \u001b[0mTrue\u001b[0m\u001b[0;34m\u001b[0m\u001b[0m\n",
      "\u001b[0;32m/opt/rh/anaconda/root/envs/PUI2016_Python2/lib/python2.7/site-packages/geopandas/plotting.pyc\u001b[0m in \u001b[0;36m__pysal_choro\u001b[0;34m(values, scheme, k)\u001b[0m\n\u001b[1;32m    513\u001b[0m             raise ValueError(\"Invalid scheme. Scheme must be in the\"\n\u001b[1;32m    514\u001b[0m                              \" set: %r\" % schemes.keys())\n\u001b[0;32m--> 515\u001b[0;31m         \u001b[0mbinning\u001b[0m \u001b[0;34m=\u001b[0m \u001b[0mschemes\u001b[0m\u001b[0;34m[\u001b[0m\u001b[0mscheme\u001b[0m\u001b[0;34m]\u001b[0m\u001b[0;34m(\u001b[0m\u001b[0mvalues\u001b[0m\u001b[0;34m,\u001b[0m \u001b[0mk\u001b[0m\u001b[0;34m)\u001b[0m\u001b[0;34m\u001b[0m\u001b[0m\n\u001b[0m\u001b[1;32m    516\u001b[0m         \u001b[0;32mreturn\u001b[0m \u001b[0mbinning\u001b[0m\u001b[0;34m\u001b[0m\u001b[0m\n\u001b[1;32m    517\u001b[0m     \u001b[0;32mexcept\u001b[0m \u001b[0mImportError\u001b[0m\u001b[0;34m:\u001b[0m\u001b[0;34m\u001b[0m\u001b[0m\n",
      "\u001b[0;32m/opt/rh/anaconda/root/envs/PUI2016_Python2/lib/python2.7/site-packages/pysal/esda/mapclassify.pyc\u001b[0m in \u001b[0;36m__init__\u001b[0;34m(self, y, k)\u001b[0m\n\u001b[1;32m    746\u001b[0m \u001b[0;34m\u001b[0m\u001b[0m\n\u001b[1;32m    747\u001b[0m         \u001b[0mself\u001b[0m\u001b[0;34m.\u001b[0m\u001b[0mk\u001b[0m \u001b[0;34m=\u001b[0m \u001b[0mk\u001b[0m\u001b[0;34m\u001b[0m\u001b[0m\n\u001b[0;32m--> 748\u001b[0;31m         \u001b[0mMap_Classifier\u001b[0m\u001b[0;34m.\u001b[0m\u001b[0m__init__\u001b[0m\u001b[0;34m(\u001b[0m\u001b[0mself\u001b[0m\u001b[0;34m,\u001b[0m \u001b[0my\u001b[0m\u001b[0;34m)\u001b[0m\u001b[0;34m\u001b[0m\u001b[0m\n\u001b[0m\u001b[1;32m    749\u001b[0m         \u001b[0mself\u001b[0m\u001b[0;34m.\u001b[0m\u001b[0mname\u001b[0m \u001b[0;34m=\u001b[0m \u001b[0;34m'Equal Interval'\u001b[0m\u001b[0;34m\u001b[0m\u001b[0m\n\u001b[1;32m    750\u001b[0m \u001b[0;34m\u001b[0m\u001b[0m\n",
      "\u001b[0;32m/opt/rh/anaconda/root/envs/PUI2016_Python2/lib/python2.7/site-packages/pysal/esda/mapclassify.pyc\u001b[0m in \u001b[0;36m__init__\u001b[0;34m(self, y)\u001b[0m\n\u001b[1;32m    437\u001b[0m             \u001b[0my\u001b[0m \u001b[0;34m=\u001b[0m \u001b[0my\u001b[0m\u001b[0;34m.\u001b[0m\u001b[0mvalues\u001b[0m  \u001b[0;31m# fix for pandas\u001b[0m\u001b[0;34m\u001b[0m\u001b[0m\n\u001b[1;32m    438\u001b[0m         \u001b[0mself\u001b[0m\u001b[0;34m.\u001b[0m\u001b[0my\u001b[0m \u001b[0;34m=\u001b[0m \u001b[0my\u001b[0m\u001b[0;34m\u001b[0m\u001b[0m\n\u001b[0;32m--> 439\u001b[0;31m         \u001b[0mself\u001b[0m\u001b[0;34m.\u001b[0m\u001b[0m_classify\u001b[0m\u001b[0;34m(\u001b[0m\u001b[0;34m)\u001b[0m\u001b[0;34m\u001b[0m\u001b[0m\n\u001b[0m\u001b[1;32m    440\u001b[0m         \u001b[0mself\u001b[0m\u001b[0;34m.\u001b[0m\u001b[0m_summary\u001b[0m\u001b[0;34m(\u001b[0m\u001b[0;34m)\u001b[0m\u001b[0;34m\u001b[0m\u001b[0m\n\u001b[1;32m    441\u001b[0m \u001b[0;34m\u001b[0m\u001b[0m\n",
      "\u001b[0;32m/opt/rh/anaconda/root/envs/PUI2016_Python2/lib/python2.7/site-packages/pysal/esda/mapclassify.pyc\u001b[0m in \u001b[0;36m_classify\u001b[0;34m(self)\u001b[0m\n\u001b[1;32m    448\u001b[0m \u001b[0;34m\u001b[0m\u001b[0m\n\u001b[1;32m    449\u001b[0m     \u001b[0;32mdef\u001b[0m \u001b[0m_classify\u001b[0m\u001b[0;34m(\u001b[0m\u001b[0mself\u001b[0m\u001b[0;34m)\u001b[0m\u001b[0;34m:\u001b[0m\u001b[0;34m\u001b[0m\u001b[0m\n\u001b[0;32m--> 450\u001b[0;31m         \u001b[0mself\u001b[0m\u001b[0;34m.\u001b[0m\u001b[0m_set_bins\u001b[0m\u001b[0;34m(\u001b[0m\u001b[0;34m)\u001b[0m\u001b[0;34m\u001b[0m\u001b[0m\n\u001b[0m\u001b[1;32m    451\u001b[0m         \u001b[0mself\u001b[0m\u001b[0;34m.\u001b[0m\u001b[0myb\u001b[0m\u001b[0;34m,\u001b[0m \u001b[0mself\u001b[0m\u001b[0;34m.\u001b[0m\u001b[0mcounts\u001b[0m \u001b[0;34m=\u001b[0m \u001b[0mbin1d\u001b[0m\u001b[0;34m(\u001b[0m\u001b[0mself\u001b[0m\u001b[0;34m.\u001b[0m\u001b[0my\u001b[0m\u001b[0;34m,\u001b[0m \u001b[0mself\u001b[0m\u001b[0;34m.\u001b[0m\u001b[0mbins\u001b[0m\u001b[0;34m)\u001b[0m\u001b[0;34m\u001b[0m\u001b[0m\n\u001b[1;32m    452\u001b[0m \u001b[0;34m\u001b[0m\u001b[0m\n",
      "\u001b[0;32m/opt/rh/anaconda/root/envs/PUI2016_Python2/lib/python2.7/site-packages/pysal/esda/mapclassify.pyc\u001b[0m in \u001b[0;36m_set_bins\u001b[0;34m(self)\u001b[0m\n\u001b[1;32m    752\u001b[0m         \u001b[0my\u001b[0m \u001b[0;34m=\u001b[0m \u001b[0mself\u001b[0m\u001b[0;34m.\u001b[0m\u001b[0my\u001b[0m\u001b[0;34m\u001b[0m\u001b[0m\n\u001b[1;32m    753\u001b[0m         \u001b[0mk\u001b[0m \u001b[0;34m=\u001b[0m \u001b[0mself\u001b[0m\u001b[0;34m.\u001b[0m\u001b[0mk\u001b[0m\u001b[0;34m\u001b[0m\u001b[0m\n\u001b[0;32m--> 754\u001b[0;31m         \u001b[0mmax_y\u001b[0m \u001b[0;34m=\u001b[0m \u001b[0mmax\u001b[0m\u001b[0;34m(\u001b[0m\u001b[0my\u001b[0m\u001b[0;34m)\u001b[0m\u001b[0;34m\u001b[0m\u001b[0m\n\u001b[0m\u001b[1;32m    755\u001b[0m         \u001b[0mmin_y\u001b[0m \u001b[0;34m=\u001b[0m \u001b[0mmin\u001b[0m\u001b[0;34m(\u001b[0m\u001b[0my\u001b[0m\u001b[0;34m)\u001b[0m\u001b[0;34m\u001b[0m\u001b[0m\n\u001b[1;32m    756\u001b[0m         \u001b[0mrg\u001b[0m \u001b[0;34m=\u001b[0m \u001b[0mmax_y\u001b[0m \u001b[0;34m-\u001b[0m \u001b[0mmin_y\u001b[0m\u001b[0;34m\u001b[0m\u001b[0m\n",
      "\u001b[0;31mValueError\u001b[0m: max() arg is an empty sequence"
     ]
    },
    {
     "data": {
      "image/png": "[encoded data removed]",
      "text/plain": [
       "<matplotlib.figure.Figure at 0x7f0889d7ab10>"
      ]
     },
     "metadata": {},
     "output_type": "display_data"
    }
   ],
   "source": [
    "fig = plt.figure(figsize=(12,11))\n",
    "ax = fig.add_subplot(111)\n",
    "ax.axis('off')\n",
    "pumashplc.plot(column='linkNYCp100p',edgecolor='grey',ax=ax,legend=True,cmap='bone',scheme='equal_interval',k=10)\n",
    "linkNYC.plot(column='days',ax=ax,markersize=5,cmap='Oranges',legend=True)\n",
    "leg = ax.get_legend()\n",
    "leg.set_bbox_to_anchor((0., 0.7, 0.3, 0.2))"
   ]
  },
  {
   "cell_type": "markdown",
   "metadata": {},
   "source": [
    "## Figure 4. the location of the linkNYC stations with colors indicating their ages on top of a choropleth of number of stations per 100 people in 10 equal intervals"
   ]
  },
  {
   "cell_type": "markdown",
   "metadata": {},
   "source": [
    "# Extra credit 1: \n",
    "How would you enhance the visibility of this map? you are working with numbers that are mostly very low, and reside near each other, and them have a few much higher value points. Notice that here the high values are interesting though and should not be thrown away!"
   ]
  },
  {
   "cell_type": "code",
   "execution_count": 54,
   "metadata": {},
   "outputs": [
    {
     "data": {
      "image/png": "[encoded data removed]",
      "text/plain": [
       "<matplotlib.figure.Figure at 0x7f0889d6f1d0>"
      ]
     },
     "metadata": {},
     "output_type": "display_data"
    }
   ],
   "source": [
    "plt.hist(pumashplc[\"linkNYCp100p\"], bins=30);"
   ]
  },
  {
   "cell_type": "code",
   "execution_count": 55,
   "metadata": {},
   "outputs": [
    {
     "name": "stderr",
     "output_type": "stream",
     "text": [
      "/opt/rh/anaconda/root/envs/PUI2016_Python2/lib/python2.7/site-packages/numpy/core/_methods.py:59: RuntimeWarning: Mean of empty slice.\n",
      "  warnings.warn(\"Mean of empty slice.\", RuntimeWarning)\n"
     ]
    },
    {
     "ename": "ValueError",
     "evalue": "zero-size array to reduction operation minimum which has no identity",
     "output_type": "error",
     "traceback": [
      "\u001b[0;31m\u001b[0m",
      "\u001b[0;31mValueError\u001b[0mTraceback (most recent call last)",
      "\u001b[0;32m<ipython-input-55-fd16d8d143dc>\u001b[0m in \u001b[0;36m<module>\u001b[0;34m()\u001b[0m\n\u001b[1;32m      2\u001b[0m \u001b[0max\u001b[0m \u001b[0;34m=\u001b[0m \u001b[0mfig\u001b[0m\u001b[0;34m.\u001b[0m\u001b[0madd_subplot\u001b[0m\u001b[0;34m(\u001b[0m\u001b[0;36m111\u001b[0m\u001b[0;34m)\u001b[0m\u001b[0;34m\u001b[0m\u001b[0m\n\u001b[1;32m      3\u001b[0m \u001b[0max\u001b[0m\u001b[0;34m.\u001b[0m\u001b[0maxis\u001b[0m\u001b[0;34m(\u001b[0m\u001b[0;34m'off'\u001b[0m\u001b[0;34m)\u001b[0m\u001b[0;34m\u001b[0m\u001b[0m\n\u001b[0;32m----> 4\u001b[0;31m \u001b[0mpumashplc\u001b[0m\u001b[0;34m.\u001b[0m\u001b[0mplot\u001b[0m\u001b[0;34m(\u001b[0m\u001b[0mcolumn\u001b[0m\u001b[0;34m=\u001b[0m\u001b[0;34m'linkNYCp100p'\u001b[0m\u001b[0;34m,\u001b[0m\u001b[0medgecolor\u001b[0m\u001b[0;34m=\u001b[0m\u001b[0;34m'grey'\u001b[0m\u001b[0;34m,\u001b[0m\u001b[0max\u001b[0m\u001b[0;34m=\u001b[0m\u001b[0max\u001b[0m\u001b[0;34m,\u001b[0m\u001b[0mlegend\u001b[0m\u001b[0;34m=\u001b[0m\u001b[0mTrue\u001b[0m\u001b[0;34m,\u001b[0m\u001b[0mcmap\u001b[0m\u001b[0;34m=\u001b[0m\u001b[0;34m'bone'\u001b[0m\u001b[0;34m,\u001b[0m\u001b[0mscheme\u001b[0m\u001b[0;34m=\u001b[0m\u001b[0;34m'quantiles'\u001b[0m\u001b[0;34m,\u001b[0m\u001b[0mk\u001b[0m\u001b[0;34m=\u001b[0m\u001b[0;36m10\u001b[0m\u001b[0;34m)\u001b[0m\u001b[0;34m\u001b[0m\u001b[0m\n\u001b[0m\u001b[1;32m      5\u001b[0m \u001b[0mlinkNYC\u001b[0m\u001b[0;34m.\u001b[0m\u001b[0mplot\u001b[0m\u001b[0;34m(\u001b[0m\u001b[0mcolumn\u001b[0m\u001b[0;34m=\u001b[0m\u001b[0;34m'days'\u001b[0m\u001b[0;34m,\u001b[0m\u001b[0max\u001b[0m\u001b[0;34m=\u001b[0m\u001b[0max\u001b[0m\u001b[0;34m,\u001b[0m\u001b[0mmarkersize\u001b[0m\u001b[0;34m=\u001b[0m\u001b[0;36m5\u001b[0m\u001b[0;34m,\u001b[0m\u001b[0mcmap\u001b[0m\u001b[0;34m=\u001b[0m\u001b[0;34m'Oranges'\u001b[0m\u001b[0;34m,\u001b[0m\u001b[0mlegend\u001b[0m\u001b[0;34m=\u001b[0m\u001b[0mTrue\u001b[0m\u001b[0;34m)\u001b[0m\u001b[0;34m\u001b[0m\u001b[0m\n\u001b[1;32m      6\u001b[0m \u001b[0mleg\u001b[0m \u001b[0;34m=\u001b[0m \u001b[0max\u001b[0m\u001b[0;34m.\u001b[0m\u001b[0mget_legend\u001b[0m\u001b[0;34m(\u001b[0m\u001b[0;34m)\u001b[0m\u001b[0;34m\u001b[0m\u001b[0m\n",
      "\u001b[0;32m/opt/rh/anaconda/root/envs/PUI2016_Python2/lib/python2.7/site-packages/geopandas/geodataframe.pyc\u001b[0m in \u001b[0;36mplot\u001b[0;34m(self, *args, **kwargs)\u001b[0m\n\u001b[1;32m    467\u001b[0m     \u001b[0;32mdef\u001b[0m \u001b[0mplot\u001b[0m\u001b[0;34m(\u001b[0m\u001b[0mself\u001b[0m\u001b[0;34m,\u001b[0m \u001b[0;34m*\u001b[0m\u001b[0margs\u001b[0m\u001b[0;34m,\u001b[0m \u001b[0;34m**\u001b[0m\u001b[0mkwargs\u001b[0m\u001b[0;34m)\u001b[0m\u001b[0;34m:\u001b[0m\u001b[0;34m\u001b[0m\u001b[0m\n\u001b[1;32m    468\u001b[0m \u001b[0;34m\u001b[0m\u001b[0m\n\u001b[0;32m--> 469\u001b[0;31m         \u001b[0;32mreturn\u001b[0m \u001b[0mplot_dataframe\u001b[0m\u001b[0;34m(\u001b[0m\u001b[0mself\u001b[0m\u001b[0;34m,\u001b[0m \u001b[0;34m*\u001b[0m\u001b[0margs\u001b[0m\u001b[0;34m,\u001b[0m \u001b[0;34m**\u001b[0m\u001b[0mkwargs\u001b[0m\u001b[0;34m)\u001b[0m\u001b[0;34m\u001b[0m\u001b[0m\n\u001b[0m\u001b[1;32m    470\u001b[0m \u001b[0;34m\u001b[0m\u001b[0m\n\u001b[1;32m    471\u001b[0m     \u001b[0mplot\u001b[0m\u001b[0;34m.\u001b[0m\u001b[0m__doc__\u001b[0m \u001b[0;34m=\u001b[0m \u001b[0mplot_dataframe\u001b[0m\u001b[0;34m.\u001b[0m\u001b[0m__doc__\u001b[0m\u001b[0;34m\u001b[0m\u001b[0m\n",
      "\u001b[0;32m/opt/rh/anaconda/root/envs/PUI2016_Python2/lib/python2.7/site-packages/geopandas/plotting.pyc\u001b[0m in \u001b[0;36mplot_dataframe\u001b[0;34m(df, column, cmap, color, ax, categorical, legend, scheme, k, vmin, vmax, figsize, **style_kwds)\u001b[0m\n\u001b[1;32m    426\u001b[0m         \u001b[0max\u001b[0m\u001b[0;34m.\u001b[0m\u001b[0mset_aspect\u001b[0m\u001b[0;34m(\u001b[0m\u001b[0;34m'equal'\u001b[0m\u001b[0;34m)\u001b[0m\u001b[0;34m\u001b[0m\u001b[0m\n\u001b[1;32m    427\u001b[0m \u001b[0;34m\u001b[0m\u001b[0m\n\u001b[0;32m--> 428\u001b[0;31m     \u001b[0mmn\u001b[0m \u001b[0;34m=\u001b[0m \u001b[0mvalues\u001b[0m\u001b[0;34m.\u001b[0m\u001b[0mmin\u001b[0m\u001b[0;34m(\u001b[0m\u001b[0;34m)\u001b[0m \u001b[0;32mif\u001b[0m \u001b[0mvmin\u001b[0m \u001b[0;32mis\u001b[0m \u001b[0mNone\u001b[0m \u001b[0;32melse\u001b[0m \u001b[0mvmin\u001b[0m\u001b[0;34m\u001b[0m\u001b[0m\n\u001b[0m\u001b[1;32m    429\u001b[0m     \u001b[0mmx\u001b[0m \u001b[0;34m=\u001b[0m \u001b[0mvalues\u001b[0m\u001b[0;34m.\u001b[0m\u001b[0mmax\u001b[0m\u001b[0;34m(\u001b[0m\u001b[0;34m)\u001b[0m \u001b[0;32mif\u001b[0m \u001b[0mvmax\u001b[0m \u001b[0;32mis\u001b[0m \u001b[0mNone\u001b[0m \u001b[0;32melse\u001b[0m \u001b[0mvmax\u001b[0m\u001b[0;34m\u001b[0m\u001b[0m\n\u001b[1;32m    430\u001b[0m \u001b[0;34m\u001b[0m\u001b[0m\n",
      "\u001b[0;32m/opt/rh/anaconda/root/envs/PUI2016_Python2/lib/python2.7/site-packages/numpy/core/_methods.pyc\u001b[0m in \u001b[0;36m_amin\u001b[0;34m(a, axis, out, keepdims)\u001b[0m\n\u001b[1;32m     27\u001b[0m \u001b[0;34m\u001b[0m\u001b[0m\n\u001b[1;32m     28\u001b[0m \u001b[0;32mdef\u001b[0m \u001b[0m_amin\u001b[0m\u001b[0;34m(\u001b[0m\u001b[0ma\u001b[0m\u001b[0;34m,\u001b[0m \u001b[0maxis\u001b[0m\u001b[0;34m=\u001b[0m\u001b[0mNone\u001b[0m\u001b[0;34m,\u001b[0m \u001b[0mout\u001b[0m\u001b[0;34m=\u001b[0m\u001b[0mNone\u001b[0m\u001b[0;34m,\u001b[0m \u001b[0mkeepdims\u001b[0m\u001b[0;34m=\u001b[0m\u001b[0mFalse\u001b[0m\u001b[0;34m)\u001b[0m\u001b[0;34m:\u001b[0m\u001b[0;34m\u001b[0m\u001b[0m\n\u001b[0;32m---> 29\u001b[0;31m     \u001b[0;32mreturn\u001b[0m \u001b[0mumr_minimum\u001b[0m\u001b[0;34m(\u001b[0m\u001b[0ma\u001b[0m\u001b[0;34m,\u001b[0m \u001b[0maxis\u001b[0m\u001b[0;34m,\u001b[0m \u001b[0mNone\u001b[0m\u001b[0;34m,\u001b[0m \u001b[0mout\u001b[0m\u001b[0;34m,\u001b[0m \u001b[0mkeepdims\u001b[0m\u001b[0;34m)\u001b[0m\u001b[0;34m\u001b[0m\u001b[0m\n\u001b[0m\u001b[1;32m     30\u001b[0m \u001b[0;34m\u001b[0m\u001b[0m\n\u001b[1;32m     31\u001b[0m \u001b[0;32mdef\u001b[0m \u001b[0m_sum\u001b[0m\u001b[0;34m(\u001b[0m\u001b[0ma\u001b[0m\u001b[0;34m,\u001b[0m \u001b[0maxis\u001b[0m\u001b[0;34m=\u001b[0m\u001b[0mNone\u001b[0m\u001b[0;34m,\u001b[0m \u001b[0mdtype\u001b[0m\u001b[0;34m=\u001b[0m\u001b[0mNone\u001b[0m\u001b[0;34m,\u001b[0m \u001b[0mout\u001b[0m\u001b[0;34m=\u001b[0m\u001b[0mNone\u001b[0m\u001b[0;34m,\u001b[0m \u001b[0mkeepdims\u001b[0m\u001b[0;34m=\u001b[0m\u001b[0mFalse\u001b[0m\u001b[0;34m)\u001b[0m\u001b[0;34m:\u001b[0m\u001b[0;34m\u001b[0m\u001b[0m\n",
      "\u001b[0;31mValueError\u001b[0m: zero-size array to reduction operation minimum which has no identity"
     ]
    },
    {
     "data": {
      "image/png": "[encoded data removed]",
      "text/plain": [
       "<matplotlib.figure.Figure at 0x7f0889bcb650>"
      ]
     },
     "metadata": {},
     "output_type": "display_data"
    }
   ],
   "source": [
    "fig = plt.figure(figsize=(12,11))\n",
    "ax = fig.add_subplot(111)\n",
    "ax.axis('off')\n",
    "pumashplc.plot(column='linkNYCp100p',edgecolor='grey',ax=ax,legend=True,cmap='bone',scheme='quantiles',k=10)\n",
    "linkNYC.plot(column='days',ax=ax,markersize=5,cmap='Oranges',legend=True)\n",
    "leg = ax.get_legend()\n",
    "leg.set_bbox_to_anchor((0., 0.7, 0.3, 0.2))"
   ]
  },
  {
   "cell_type": "markdown",
   "metadata": {},
   "source": [
    "## Figure 5. the location of the linkNYC stations with colors indicating their ages on top of a choropleth of number of stations per 100 people in 8 quantiles"
   ]
  },
  {
   "cell_type": "markdown",
   "metadata": {},
   "source": [
    "## Extra Credit 2:\n",
    "plot Spatial Lag Deciles that describe the impact of linkNYC in providing access where needed. You can follow what you did in the lab, but you need to create a metric based on the data you have tha measures the impact of linkNYC\n"
   ]
  },
  {
   "cell_type": "markdown",
   "metadata": {},
   "source": [
    "## We want to measure the impact of linkNYC so I'm going to create a new variable -- number of LinkNYCs over percentages of households which have any broadband access"
   ]
  },
  {
   "cell_type": "code",
   "execution_count": 56,
   "metadata": {
    "scrolled": false
   },
   "outputs": [],
   "source": [
    "#pumashplc = pd.merge(pumashplc,pumaBB[['public use microdata area','B28002_004E']],on='public use microdata area')"
   ]
  },
  {
   "cell_type": "code",
   "execution_count": 57,
   "metadata": {},
   "outputs": [],
   "source": [
    "#pumashplc['linkNYCp1000h'] = pumashplc['date_link_']/(pumashplc['B28002_004E']/pumashplc['pcBB']*100-pumashplc['B28002_004E'])"
   ]
  },
  {
   "cell_type": "code",
   "execution_count": 58,
   "metadata": {},
   "outputs": [],
   "source": [
    "pumashplc['linkNYCppcBB'] = pumashplc['date_link_']/pumashplc['pcBB']*100"
   ]
  },
  {
   "cell_type": "code",
   "execution_count": 59,
   "metadata": {},
   "outputs": [
    {
     "data": {
      "text/html": [
       "<div>\n",
       "<table border=\"1\" class=\"dataframe\">\n",
       "  <thead>\n",
       "    <tr style=\"text-align: right;\">\n",
       "      <th></th>\n",
       "      <th>shape_area</th>\n",
       "      <th>shape_leng</th>\n",
       "      <th>gid</th>\n",
       "      <th>Percent</th>\n",
       "      <th>error</th>\n",
       "      <th>population</th>\n",
       "      <th>count_link</th>\n",
       "      <th>linkNYCp10</th>\n",
       "      <th>geometry</th>\n",
       "      <th>pcBB</th>\n",
       "      <th>Pop</th>\n",
       "      <th>public use microdata area</th>\n",
       "      <th>puma</th>\n",
       "      <th>date_link_</th>\n",
       "      <th>linkNYCp100p</th>\n",
       "      <th>linkNYCppcBB</th>\n",
       "    </tr>\n",
       "  </thead>\n",
       "  <tbody>\n",
       "  </tbody>\n",
       "</table>\n",
       "</div>"
      ],
      "text/plain": [
       "Empty GeoDataFrame\n",
       "Columns: [shape_area, shape_leng, gid, Percent, error, population, count_link, linkNYCp10, geometry, pcBB, Pop, public use microdata area, puma, date_link_, linkNYCp100p, linkNYCppcBB]\n",
       "Index: []"
      ]
     },
     "execution_count": 59,
     "metadata": {},
     "output_type": "execute_result"
    }
   ],
   "source": [
    "pumashplc.head(1)"
   ]
  },
  {
   "cell_type": "code",
   "execution_count": 60,
   "metadata": {},
   "outputs": [
    {
     "ename": "ValueError",
     "evalue": "Geometry column cannot contain mutiple geometry types when writing to file.",
     "output_type": "error",
     "traceback": [
      "\u001b[0;31m\u001b[0m",
      "\u001b[0;31mValueError\u001b[0mTraceback (most recent call last)",
      "\u001b[0;32m<ipython-input-60-ed7f861bce31>\u001b[0m in \u001b[0;36m<module>\u001b[0;34m()\u001b[0m\n\u001b[0;32m----> 1\u001b[0;31m \u001b[0mpumashplc\u001b[0m\u001b[0;34m.\u001b[0m\u001b[0mto_file\u001b[0m\u001b[0;34m(\u001b[0m\u001b[0mos\u001b[0m\u001b[0;34m.\u001b[0m\u001b[0mgetenv\u001b[0m\u001b[0;34m(\u001b[0m\u001b[0;34m'PUIDATA'\u001b[0m\u001b[0;34m)\u001b[0m\u001b[0;34m+\u001b[0m\u001b[0;34m'/pumashplc.shp'\u001b[0m\u001b[0;34m)\u001b[0m\u001b[0;34m\u001b[0m\u001b[0m\n\u001b[0m",
      "\u001b[0;32m/opt/rh/anaconda/root/envs/PUI2016_Python2/lib/python2.7/site-packages/geopandas/geodataframe.pyc\u001b[0m in \u001b[0;36mto_file\u001b[0;34m(self, filename, driver, schema, **kwargs)\u001b[0m\n\u001b[1;32m    363\u001b[0m         \"\"\"\n\u001b[1;32m    364\u001b[0m         \u001b[0;32mfrom\u001b[0m \u001b[0mgeopandas\u001b[0m\u001b[0;34m.\u001b[0m\u001b[0mio\u001b[0m\u001b[0;34m.\u001b[0m\u001b[0mfile\u001b[0m \u001b[0;32mimport\u001b[0m \u001b[0mto_file\u001b[0m\u001b[0;34m\u001b[0m\u001b[0m\n\u001b[0;32m--> 365\u001b[0;31m         \u001b[0mto_file\u001b[0m\u001b[0;34m(\u001b[0m\u001b[0mself\u001b[0m\u001b[0;34m,\u001b[0m \u001b[0mfilename\u001b[0m\u001b[0;34m,\u001b[0m \u001b[0mdriver\u001b[0m\u001b[0;34m,\u001b[0m \u001b[0mschema\u001b[0m\u001b[0;34m,\u001b[0m \u001b[0;34m**\u001b[0m\u001b[0mkwargs\u001b[0m\u001b[0;34m)\u001b[0m\u001b[0;34m\u001b[0m\u001b[0m\n\u001b[0m\u001b[1;32m    366\u001b[0m \u001b[0;34m\u001b[0m\u001b[0m\n\u001b[1;32m    367\u001b[0m     \u001b[0;32mdef\u001b[0m \u001b[0mto_crs\u001b[0m\u001b[0;34m(\u001b[0m\u001b[0mself\u001b[0m\u001b[0;34m,\u001b[0m \u001b[0mcrs\u001b[0m\u001b[0;34m=\u001b[0m\u001b[0mNone\u001b[0m\u001b[0;34m,\u001b[0m \u001b[0mepsg\u001b[0m\u001b[0;34m=\u001b[0m\u001b[0mNone\u001b[0m\u001b[0;34m,\u001b[0m \u001b[0minplace\u001b[0m\u001b[0;34m=\u001b[0m\u001b[0mFalse\u001b[0m\u001b[0;34m)\u001b[0m\u001b[0;34m:\u001b[0m\u001b[0;34m\u001b[0m\u001b[0m\n",
      "\u001b[0;32m/opt/rh/anaconda/root/envs/PUI2016_Python2/lib/python2.7/site-packages/geopandas/io/file.pyc\u001b[0m in \u001b[0;36mto_file\u001b[0;34m(df, filename, driver, schema, **kwargs)\u001b[0m\n\u001b[1;32m     58\u001b[0m     \"\"\"\n\u001b[1;32m     59\u001b[0m     \u001b[0;32mif\u001b[0m \u001b[0mschema\u001b[0m \u001b[0;32mis\u001b[0m \u001b[0mNone\u001b[0m\u001b[0;34m:\u001b[0m\u001b[0;34m\u001b[0m\u001b[0m\n\u001b[0;32m---> 60\u001b[0;31m         \u001b[0mschema\u001b[0m \u001b[0;34m=\u001b[0m \u001b[0minfer_schema\u001b[0m\u001b[0;34m(\u001b[0m\u001b[0mdf\u001b[0m\u001b[0;34m)\u001b[0m\u001b[0;34m\u001b[0m\u001b[0m\n\u001b[0m\u001b[1;32m     61\u001b[0m     \u001b[0mfilename\u001b[0m \u001b[0;34m=\u001b[0m \u001b[0mos\u001b[0m\u001b[0;34m.\u001b[0m\u001b[0mpath\u001b[0m\u001b[0;34m.\u001b[0m\u001b[0mabspath\u001b[0m\u001b[0;34m(\u001b[0m\u001b[0mos\u001b[0m\u001b[0;34m.\u001b[0m\u001b[0mpath\u001b[0m\u001b[0;34m.\u001b[0m\u001b[0mexpanduser\u001b[0m\u001b[0;34m(\u001b[0m\u001b[0mfilename\u001b[0m\u001b[0;34m)\u001b[0m\u001b[0;34m)\u001b[0m\u001b[0;34m\u001b[0m\u001b[0m\n\u001b[1;32m     62\u001b[0m     \u001b[0;32mwith\u001b[0m \u001b[0mfiona\u001b[0m\u001b[0;34m.\u001b[0m\u001b[0mdrivers\u001b[0m\u001b[0;34m(\u001b[0m\u001b[0;34m)\u001b[0m\u001b[0;34m:\u001b[0m\u001b[0;34m\u001b[0m\u001b[0m\n",
      "\u001b[0;32m/opt/rh/anaconda/root/envs/PUI2016_Python2/lib/python2.7/site-packages/geopandas/io/file.pyc\u001b[0m in \u001b[0;36minfer_schema\u001b[0;34m(df)\u001b[0m\n\u001b[1;32m     88\u001b[0m     \u001b[0mgeom_type\u001b[0m \u001b[0;34m=\u001b[0m \u001b[0m_common_geom_type\u001b[0m\u001b[0;34m(\u001b[0m\u001b[0mdf\u001b[0m\u001b[0;34m)\u001b[0m\u001b[0;34m\u001b[0m\u001b[0m\n\u001b[1;32m     89\u001b[0m     \u001b[0;32mif\u001b[0m \u001b[0;32mnot\u001b[0m \u001b[0mgeom_type\u001b[0m\u001b[0;34m:\u001b[0m\u001b[0;34m\u001b[0m\u001b[0m\n\u001b[0;32m---> 90\u001b[0;31m         raise ValueError(\"Geometry column cannot contain mutiple \"\n\u001b[0m\u001b[1;32m     91\u001b[0m                          \"geometry types when writing to file.\")\n\u001b[1;32m     92\u001b[0m \u001b[0;34m\u001b[0m\u001b[0m\n",
      "\u001b[0;31mValueError\u001b[0m: Geometry column cannot contain mutiple geometry types when writing to file."
     ]
    }
   ],
   "source": [
    "pumashplc.to_file(os.getenv('PUIDATA')+'/pumashplc.shp')"
   ]
  },
  {
   "cell_type": "code",
   "execution_count": 61,
   "metadata": {},
   "outputs": [],
   "source": [
    "qW = ps.queen_from_shapefile(os.getenv('PUIDATA')+'/pumashplc.shp')"
   ]
  },
  {
   "cell_type": "code",
   "execution_count": 62,
   "metadata": {},
   "outputs": [],
   "source": [
    "qW.transform = 'r'"
   ]
  },
  {
   "cell_type": "code",
   "execution_count": 63,
   "metadata": {},
   "outputs": [
    {
     "ename": "ValueError",
     "evalue": "dimension mismatch",
     "output_type": "error",
     "traceback": [
      "\u001b[0;31m\u001b[0m",
      "\u001b[0;31mValueError\u001b[0mTraceback (most recent call last)",
      "\u001b[0;32m<ipython-input-63-355e4fc327fa>\u001b[0m in \u001b[0;36m<module>\u001b[0;34m()\u001b[0m\n\u001b[0;32m----> 1\u001b[0;31m \u001b[0mLinkNYCpLag\u001b[0m \u001b[0;34m=\u001b[0m \u001b[0mps\u001b[0m\u001b[0;34m.\u001b[0m\u001b[0mlag_spatial\u001b[0m\u001b[0;34m(\u001b[0m\u001b[0mqW\u001b[0m\u001b[0;34m,\u001b[0m \u001b[0mpumashplc\u001b[0m\u001b[0;34m[\u001b[0m\u001b[0;34m'linkNYCppcBB'\u001b[0m\u001b[0;34m]\u001b[0m\u001b[0;34m)\u001b[0m\u001b[0;34m\u001b[0m\u001b[0m\n\u001b[0m",
      "\u001b[0;32m/opt/rh/anaconda/root/envs/PUI2016_Python2/lib/python2.7/site-packages/pysal/weights/spatial_lag.pyc\u001b[0m in \u001b[0;36mlag_spatial\u001b[0;34m(w, y)\u001b[0m\n\u001b[1;32m     84\u001b[0m \u001b[0;34m\u001b[0m\u001b[0m\n\u001b[1;32m     85\u001b[0m     \"\"\"\n\u001b[0;32m---> 86\u001b[0;31m     \u001b[0;32mreturn\u001b[0m \u001b[0mw\u001b[0m\u001b[0;34m.\u001b[0m\u001b[0msparse\u001b[0m \u001b[0;34m*\u001b[0m \u001b[0my\u001b[0m\u001b[0;34m\u001b[0m\u001b[0m\n\u001b[0m\u001b[1;32m     87\u001b[0m \u001b[0;34m\u001b[0m\u001b[0m\n\u001b[1;32m     88\u001b[0m \u001b[0;34m\u001b[0m\u001b[0m\n",
      "\u001b[0;32m/opt/rh/anaconda/root/envs/PUI2016_Python2/lib/python2.7/site-packages/scipy/sparse/base.pyc\u001b[0m in \u001b[0;36m__mul__\u001b[0;34m(self, other)\u001b[0m\n\u001b[1;32m    369\u001b[0m             \u001b[0;31m# dense row or column vector\u001b[0m\u001b[0;34m\u001b[0m\u001b[0;34m\u001b[0m\u001b[0m\n\u001b[1;32m    370\u001b[0m             \u001b[0;32mif\u001b[0m \u001b[0mother\u001b[0m\u001b[0;34m.\u001b[0m\u001b[0mshape\u001b[0m \u001b[0;34m!=\u001b[0m \u001b[0;34m(\u001b[0m\u001b[0mN\u001b[0m\u001b[0;34m,\u001b[0m\u001b[0;34m)\u001b[0m \u001b[0;32mand\u001b[0m \u001b[0mother\u001b[0m\u001b[0;34m.\u001b[0m\u001b[0mshape\u001b[0m \u001b[0;34m!=\u001b[0m \u001b[0;34m(\u001b[0m\u001b[0mN\u001b[0m\u001b[0;34m,\u001b[0m \u001b[0;36m1\u001b[0m\u001b[0;34m)\u001b[0m\u001b[0;34m:\u001b[0m\u001b[0;34m\u001b[0m\u001b[0m\n\u001b[0;32m--> 371\u001b[0;31m                 \u001b[0;32mraise\u001b[0m \u001b[0mValueError\u001b[0m\u001b[0;34m(\u001b[0m\u001b[0;34m'dimension mismatch'\u001b[0m\u001b[0;34m)\u001b[0m\u001b[0;34m\u001b[0m\u001b[0m\n\u001b[0m\u001b[1;32m    372\u001b[0m \u001b[0;34m\u001b[0m\u001b[0m\n\u001b[1;32m    373\u001b[0m             \u001b[0mresult\u001b[0m \u001b[0;34m=\u001b[0m \u001b[0mself\u001b[0m\u001b[0;34m.\u001b[0m\u001b[0m_mul_vector\u001b[0m\u001b[0;34m(\u001b[0m\u001b[0mnp\u001b[0m\u001b[0;34m.\u001b[0m\u001b[0mravel\u001b[0m\u001b[0;34m(\u001b[0m\u001b[0mother\u001b[0m\u001b[0;34m)\u001b[0m\u001b[0;34m)\u001b[0m\u001b[0;34m\u001b[0m\u001b[0m\n",
      "\u001b[0;31mValueError\u001b[0m: dimension mismatch"
     ]
    }
   ],
   "source": [
    "LinkNYCpLag = ps.lag_spatial(qW, pumashplc['linkNYCppcBB'])"
   ]
  },
  {
   "cell_type": "code",
   "execution_count": 64,
   "metadata": {},
   "outputs": [
    {
     "ename": "NameError",
     "evalue": "name 'LinkNYCpLag' is not defined",
     "output_type": "error",
     "traceback": [
      "\u001b[0;31m\u001b[0m",
      "\u001b[0;31mNameError\u001b[0mTraceback (most recent call last)",
      "\u001b[0;32m<ipython-input-64-6459c6acb527>\u001b[0m in \u001b[0;36m<module>\u001b[0;34m()\u001b[0m\n\u001b[0;32m----> 1\u001b[0;31m \u001b[0mLinkNYCpLagQ10\u001b[0m \u001b[0;34m=\u001b[0m \u001b[0mps\u001b[0m\u001b[0;34m.\u001b[0m\u001b[0mQuantiles\u001b[0m\u001b[0;34m(\u001b[0m\u001b[0mLinkNYCpLag\u001b[0m\u001b[0;34m,\u001b[0m\u001b[0mk\u001b[0m\u001b[0;34m=\u001b[0m\u001b[0;36m5\u001b[0m\u001b[0;34m)\u001b[0m\u001b[0;34m\u001b[0m\u001b[0m\n\u001b[0m",
      "\u001b[0;31mNameError\u001b[0m: name 'LinkNYCpLag' is not defined"
     ]
    }
   ],
   "source": [
    "LinkNYCpLagQ10 = ps.Quantiles(LinkNYCpLag,k=5)"
   ]
  },
  {
   "cell_type": "code",
   "execution_count": 65,
   "metadata": {},
   "outputs": [
    {
     "ename": "NameError",
     "evalue": "name 'LinkNYCpLagQ10' is not defined",
     "output_type": "error",
     "traceback": [
      "\u001b[0;31m\u001b[0m",
      "\u001b[0;31mNameError\u001b[0mTraceback (most recent call last)",
      "\u001b[0;32m<ipython-input-65-4f0696d0f027>\u001b[0m in \u001b[0;36m<module>\u001b[0;34m()\u001b[0m\n\u001b[1;32m      2\u001b[0m \u001b[0max\u001b[0m \u001b[0;34m=\u001b[0m \u001b[0mfig\u001b[0m\u001b[0;34m.\u001b[0m\u001b[0madd_subplot\u001b[0m\u001b[0;34m(\u001b[0m\u001b[0;36m111\u001b[0m\u001b[0;34m)\u001b[0m\u001b[0;34m\u001b[0m\u001b[0m\n\u001b[1;32m      3\u001b[0m \u001b[0max\u001b[0m\u001b[0;34m.\u001b[0m\u001b[0maxis\u001b[0m\u001b[0;34m(\u001b[0m\u001b[0;34m'off'\u001b[0m\u001b[0;34m)\u001b[0m\u001b[0;34m\u001b[0m\u001b[0m\n\u001b[0;32m----> 4\u001b[0;31m \u001b[0mpumashplc\u001b[0m\u001b[0;34m.\u001b[0m\u001b[0massign\u001b[0m\u001b[0;34m(\u001b[0m\u001b[0mcl\u001b[0m\u001b[0;34m=\u001b[0m\u001b[0mLinkNYCpLagQ10\u001b[0m\u001b[0;34m.\u001b[0m\u001b[0myb\u001b[0m\u001b[0;34m)\u001b[0m\u001b[0;34m.\u001b[0m\u001b[0mplot\u001b[0m\u001b[0;34m(\u001b[0m\u001b[0mcolumn\u001b[0m\u001b[0;34m=\u001b[0m\u001b[0;34m'cl'\u001b[0m\u001b[0;34m,\u001b[0m\u001b[0medgecolor\u001b[0m\u001b[0;34m=\u001b[0m\u001b[0;34m'grey'\u001b[0m\u001b[0;34m,\u001b[0m\u001b[0max\u001b[0m\u001b[0;34m=\u001b[0m\u001b[0max\u001b[0m\u001b[0;34m,\u001b[0m\u001b[0mlegend\u001b[0m\u001b[0;34m=\u001b[0m\u001b[0mTrue\u001b[0m\u001b[0;34m,\u001b[0m\u001b[0mcmap\u001b[0m\u001b[0;34m=\u001b[0m\u001b[0;34m'hot_r'\u001b[0m\u001b[0;34m,\u001b[0m\u001b[0mcategorical\u001b[0m\u001b[0;34m=\u001b[0m\u001b[0mTrue\u001b[0m\u001b[0;34m)\u001b[0m\u001b[0;34m\u001b[0m\u001b[0m\n\u001b[0m",
      "\u001b[0;31mNameError\u001b[0m: name 'LinkNYCpLagQ10' is not defined"
     ]
    },
    {
     "data": {
      "image/png": "[encoded data removed]",
      "text/plain": [
       "<matplotlib.figure.Figure at 0x7f0889be3050>"
      ]
     },
     "metadata": {},
     "output_type": "display_data"
    }
   ],
   "source": [
    "fig = plt.figure(figsize=(11,11))\n",
    "ax = fig.add_subplot(111)\n",
    "ax.axis('off')\n",
    "pumashplc.assign(cl=LinkNYCpLagQ10.yb).plot(column='cl',edgecolor='grey',ax=ax,legend=True,cmap='hot_r',categorical=True)"
   ]
  },
  {
   "cell_type": "markdown",
   "metadata": {},
   "source": [
    "## Figure 6. Spatial Lag Deciles that describe the impact of linkNYC in providing access where needed"
   ]
  },
  {
   "cell_type": "markdown",
   "metadata": {},
   "source": [
    "this is whay I came up with, and needs not be the same for you. But properly describe what you obtain"
   ]
  },
  {
   "cell_type": "markdown",
   "metadata": {},
   "source": [
    "\n",
    "Note: To find the table you extracted through the API manually you could\n",
    "\n",
    "https://factfinder.census.gov/ -> Advanced Search -> Show me all \n",
    "    \n",
    "    - Topics: Housing -> Physical Characteristics -> Internet Access\n",
    "    - Geographies -> all geography types -> Public Use Microdata Areas (755)\n",
    "                     -> Select a State: New York -> All Pubic Use Microdaa Areas within New York\n",
    "                     -> Add Your Selection\n",
    "    - Years -> 2016"
   ]
  },
  {
   "cell_type": "markdown",
   "metadata": {},
   "source": [
    "Grade: 7/10 - Errors in plot commands"
   ]
  },
  {
   "cell_type": "code",
   "execution_count": null,
   "metadata": {},
   "outputs": [],
   "source": []
  }
 ],
 "metadata": {
  "kernelspec": {
   "display_name": "PUI2016_Python2",
   "language": "python",
   "name": "pui2016_python2"
  },
  "language_info": {
   "codemirror_mode": {
    "name": "ipython",
    "version": 2
   },
   "file_extension": ".py",
   "mimetype": "text/x-python",
   "name": "python",
   "nbconvert_exporter": "python",
   "pygments_lexer": "ipython2",
   "version": "2.7.12"
  }
 },
 "nbformat": 4,
 "nbformat_minor": 2
}
